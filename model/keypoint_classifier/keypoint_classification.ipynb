{
  "cells": [
    {
      "cell_type": "code",
      "execution_count": 1,
      "metadata": {
        "id": "igMyGnjE9hEp"
      },
      "outputs": [
        {
          "name": "stderr",
          "output_type": "stream",
          "text": [
            "2023-01-08 06:02:56.625771: I tensorflow/core/platform/cpu_feature_guard.cc:193] This TensorFlow binary is optimized with oneAPI Deep Neural Network Library (oneDNN) to use the following CPU instructions in performance-critical operations:  AVX2 FMA\n",
            "To enable them in other operations, rebuild TensorFlow with the appropriate compiler flags.\n",
            "2023-01-08 06:02:56.750868: W tensorflow/compiler/xla/stream_executor/platform/default/dso_loader.cc:64] Could not load dynamic library 'libcudart.so.11.0'; dlerror: libcudart.so.11.0: cannot open shared object file: No such file or directory\n",
            "2023-01-08 06:02:56.750900: I tensorflow/compiler/xla/stream_executor/cuda/cudart_stub.cc:29] Ignore above cudart dlerror if you do not have a GPU set up on your machine.\n",
            "2023-01-08 06:02:57.319807: W tensorflow/compiler/xla/stream_executor/platform/default/dso_loader.cc:64] Could not load dynamic library 'libnvinfer.so.7'; dlerror: libnvinfer.so.7: cannot open shared object file: No such file or directory\n",
            "2023-01-08 06:02:57.319887: W tensorflow/compiler/xla/stream_executor/platform/default/dso_loader.cc:64] Could not load dynamic library 'libnvinfer_plugin.so.7'; dlerror: libnvinfer_plugin.so.7: cannot open shared object file: No such file or directory\n",
            "2023-01-08 06:02:57.319896: W tensorflow/compiler/tf2tensorrt/utils/py_utils.cc:38] TF-TRT Warning: Cannot dlopen some TensorRT libraries. If you would like to use Nvidia GPU with TensorRT, please make sure the missing libraries mentioned above are installed properly.\n"
          ]
        }
      ],
      "source": [
        "import csv\n",
        "import numpy as np\n",
        "import tensorflow as tf\n",
        "from sklearn.model_selection import train_test_split\n",
        "import pandas as pd\n",
        "import seaborn as sns\n",
        "import matplotlib.pyplot as plt\n",
        "from sklearn.metrics import confusion_matrix, classification_report\n",
        "\n",
        "RANDOM_SEED = 42"
      ]
    },
    {
      "cell_type": "markdown",
      "metadata": {
        "id": "t2HDvhIu9hEr"
      },
      "source": [
        "# Specify each path"
      ]
    },
    {
      "cell_type": "code",
      "execution_count": 2,
      "metadata": {},
      "outputs": [],
      "source": [
        "import tensorflow"
      ]
    },
    {
      "cell_type": "code",
      "execution_count": 3,
      "metadata": {
        "id": "9NvZP2Zn9hEy"
      },
      "outputs": [],
      "source": [
        "dataset = 'keypoint.csv'#'model/keypoint_classifier/keypoint.csv'\n",
        "model_save_path = 'keypoint_classifier.hdf5'#'model/keypoint_classifier/keypoint_classifier.hdf5'\n",
        "tflite_save_path = 'keypoint_classifier.tflite'#'model/keypoint_classifier/keypoint_classifier.tflite'"
      ]
    },
    {
      "cell_type": "markdown",
      "metadata": {
        "id": "s5oMH7x19hEz"
      },
      "source": [
        "# Set number of classes and sort data"
      ]
    },
    {
      "cell_type": "code",
      "execution_count": 4,
      "metadata": {
        "id": "du4kodXL9hEz"
      },
      "outputs": [],
      "source": [
        "NUM_CLASSES = 4\n",
        "\n",
        "pd.read_csv('keypoint.csv', header=None).sort_values(0).to_csv('keypoint.csv', index=False, header=None)"
      ]
    },
    {
      "cell_type": "markdown",
      "metadata": {
        "id": "XjnL0uso9hEz"
      },
      "source": [
        "# Dataset reading"
      ]
    },
    {
      "cell_type": "code",
      "execution_count": 5,
      "metadata": {
        "id": "QT5ZqtEz9hE0"
      },
      "outputs": [],
      "source": [
        "X_dataset = np.loadtxt(dataset, delimiter=',', dtype='float32', usecols=list(range(1, (21 * 2) + 1)))"
      ]
    },
    {
      "cell_type": "code",
      "execution_count": 6,
      "metadata": {
        "id": "QmoKFsp49hE0"
      },
      "outputs": [],
      "source": [
        "y_dataset = np.loadtxt(dataset, delimiter=',', dtype='int32', usecols=(0))"
      ]
    },
    {
      "cell_type": "code",
      "execution_count": 7,
      "metadata": {
        "id": "xQU7JTZ_9hE0"
      },
      "outputs": [],
      "source": [
        "X_train, X_test, y_train, y_test = train_test_split(X_dataset, y_dataset, train_size=0.75, random_state=RANDOM_SEED)"
      ]
    },
    {
      "cell_type": "markdown",
      "metadata": {
        "id": "mxK_lETT9hE0"
      },
      "source": [
        "# Model building"
      ]
    },
    {
      "cell_type": "code",
      "execution_count": 8,
      "metadata": {
        "id": "vHBmUf1t9hE1"
      },
      "outputs": [
        {
          "name": "stderr",
          "output_type": "stream",
          "text": [
            "2023-01-08 06:02:59.068551: I tensorflow/compiler/xla/stream_executor/cuda/cuda_gpu_executor.cc:981] successful NUMA node read from SysFS had negative value (-1), but there must be at least one NUMA node, so returning NUMA node zero\n",
            "2023-01-08 06:02:59.069055: W tensorflow/compiler/xla/stream_executor/platform/default/dso_loader.cc:64] Could not load dynamic library 'libcudart.so.11.0'; dlerror: libcudart.so.11.0: cannot open shared object file: No such file or directory\n",
            "2023-01-08 06:02:59.069118: W tensorflow/compiler/xla/stream_executor/platform/default/dso_loader.cc:64] Could not load dynamic library 'libcublas.so.11'; dlerror: libcublas.so.11: cannot open shared object file: No such file or directory\n",
            "2023-01-08 06:02:59.069159: W tensorflow/compiler/xla/stream_executor/platform/default/dso_loader.cc:64] Could not load dynamic library 'libcublasLt.so.11'; dlerror: libcublasLt.so.11: cannot open shared object file: No such file or directory\n",
            "2023-01-08 06:02:59.069199: W tensorflow/compiler/xla/stream_executor/platform/default/dso_loader.cc:64] Could not load dynamic library 'libcufft.so.10'; dlerror: libcufft.so.10: cannot open shared object file: No such file or directory\n",
            "2023-01-08 06:02:59.069239: W tensorflow/compiler/xla/stream_executor/platform/default/dso_loader.cc:64] Could not load dynamic library 'libcurand.so.10'; dlerror: libcurand.so.10: cannot open shared object file: No such file or directory\n",
            "2023-01-08 06:02:59.069279: W tensorflow/compiler/xla/stream_executor/platform/default/dso_loader.cc:64] Could not load dynamic library 'libcusolver.so.11'; dlerror: libcusolver.so.11: cannot open shared object file: No such file or directory\n",
            "2023-01-08 06:02:59.069317: W tensorflow/compiler/xla/stream_executor/platform/default/dso_loader.cc:64] Could not load dynamic library 'libcusparse.so.11'; dlerror: libcusparse.so.11: cannot open shared object file: No such file or directory\n",
            "2023-01-08 06:02:59.069359: W tensorflow/compiler/xla/stream_executor/platform/default/dso_loader.cc:64] Could not load dynamic library 'libcudnn.so.8'; dlerror: libcudnn.so.8: cannot open shared object file: No such file or directory\n",
            "2023-01-08 06:02:59.069368: W tensorflow/core/common_runtime/gpu/gpu_device.cc:1934] Cannot dlopen some GPU libraries. Please make sure the missing libraries mentioned above are installed properly if you would like to use GPU. Follow the guide at https://www.tensorflow.org/install/gpu for how to download and setup the required libraries for your platform.\n",
            "Skipping registering GPU devices...\n",
            "2023-01-08 06:02:59.069738: I tensorflow/core/platform/cpu_feature_guard.cc:193] This TensorFlow binary is optimized with oneAPI Deep Neural Network Library (oneDNN) to use the following CPU instructions in performance-critical operations:  AVX2 FMA\n",
            "To enable them in other operations, rebuild TensorFlow with the appropriate compiler flags.\n"
          ]
        }
      ],
      "source": [
        "model = tf.keras.models.Sequential([\n",
        "    tf.keras.layers.Input((21 * 2, )),\n",
        "    tf.keras.layers.Dropout(0.2),\n",
        "    tf.keras.layers.Dense(20, activation='relu'),\n",
        "    tf.keras.layers.Dropout(0.4),\n",
        "    tf.keras.layers.Dense(10, activation='relu'),\n",
        "    tf.keras.layers.Dense(NUM_CLASSES, activation='softmax')\n",
        "])"
      ]
    },
    {
      "cell_type": "code",
      "execution_count": 9,
      "metadata": {
        "colab": {
          "base_uri": "https://localhost:8080/"
        },
        "id": "ypqky9tc9hE1",
        "outputId": "5db082bb-30e3-4110-bf63-a1ee777ecd46"
      },
      "outputs": [
        {
          "name": "stdout",
          "output_type": "stream",
          "text": [
            "Model: \"sequential\"\n",
            "_________________________________________________________________\n",
            " Layer (type)                Output Shape              Param #   \n",
            "=================================================================\n",
            " dropout (Dropout)           (None, 42)                0         \n",
            "                                                                 \n",
            " dense (Dense)               (None, 20)                860       \n",
            "                                                                 \n",
            " dropout_1 (Dropout)         (None, 20)                0         \n",
            "                                                                 \n",
            " dense_1 (Dense)             (None, 10)                210       \n",
            "                                                                 \n",
            " dense_2 (Dense)             (None, 4)                 44        \n",
            "                                                                 \n",
            "=================================================================\n",
            "Total params: 1,114\n",
            "Trainable params: 1,114\n",
            "Non-trainable params: 0\n",
            "_________________________________________________________________\n"
          ]
        }
      ],
      "source": [
        "model.summary()  # tf.keras.utils.plot_model(model, show_shapes=True)"
      ]
    },
    {
      "cell_type": "code",
      "execution_count": 10,
      "metadata": {
        "id": "MbMjOflQ9hE1"
      },
      "outputs": [],
      "source": [
        "# Model checkpoint callback\n",
        "cp_callback = tf.keras.callbacks.ModelCheckpoint(\n",
        "    model_save_path, verbose=1, save_weights_only=False)\n",
        "# Callback for early stopping\n",
        "es_callback = tf.keras.callbacks.EarlyStopping(patience=20, verbose=1)"
      ]
    },
    {
      "cell_type": "code",
      "execution_count": 11,
      "metadata": {
        "id": "c3Dac0M_9hE2"
      },
      "outputs": [],
      "source": [
        "# Model compilation\n",
        "model.compile(\n",
        "    optimizer='adam',\n",
        "    loss='sparse_categorical_crossentropy',\n",
        "    metrics=['accuracy']\n",
        ")"
      ]
    },
    {
      "cell_type": "markdown",
      "metadata": {
        "id": "7XI0j1Iu9hE2"
      },
      "source": [
        "# Model training"
      ]
    },
    {
      "cell_type": "code",
      "execution_count": 12,
      "metadata": {
        "colab": {
          "base_uri": "https://localhost:8080/"
        },
        "id": "WirBl-JE9hE3",
        "outputId": "71b30ca2-8294-4d9d-8aa2-800d90d399de",
        "scrolled": true,
        "tags": [
          "outputPrepend"
        ]
      },
      "outputs": [
        {
          "name": "stdout",
          "output_type": "stream",
          "text": [
            "Epoch 1/1000\n",
            "1/9 [==>...........................] - ETA: 5s - loss: 1.4962 - accuracy: 0.2578\n",
            "Epoch 1: saving model to keypoint_classifier.hdf5\n",
            "9/9 [==============================] - 1s 29ms/step - loss: 1.4668 - accuracy: 0.2361 - val_loss: 1.4185 - val_accuracy: 0.2808\n",
            "Epoch 2/1000\n",
            "1/9 [==>...........................] - ETA: 0s - loss: 1.3823 - accuracy: 0.2656\n",
            "Epoch 2: saving model to keypoint_classifier.hdf5\n",
            "9/9 [==============================] - 0s 7ms/step - loss: 1.4166 - accuracy: 0.2514 - val_loss: 1.3619 - val_accuracy: 0.2808\n",
            "Epoch 3/1000\n",
            "1/9 [==>...........................] - ETA: 0s - loss: 1.3764 - accuracy: 0.2891\n",
            "Epoch 3: saving model to keypoint_classifier.hdf5\n",
            "9/9 [==============================] - 0s 9ms/step - loss: 1.3598 - accuracy: 0.3394 - val_loss: 1.2849 - val_accuracy: 0.4785\n",
            "Epoch 4/1000\n",
            "1/9 [==>...........................] - ETA: 0s - loss: 1.3877 - accuracy: 0.2344\n",
            "Epoch 4: saving model to keypoint_classifier.hdf5\n",
            "9/9 [==============================] - 0s 9ms/step - loss: 1.3357 - accuracy: 0.3499 - val_loss: 1.2169 - val_accuracy: 0.4986\n",
            "Epoch 5/1000\n",
            "1/9 [==>...........................] - ETA: 0s - loss: 1.2873 - accuracy: 0.4141\n",
            "Epoch 5: saving model to keypoint_classifier.hdf5\n",
            "9/9 [==============================] - 0s 8ms/step - loss: 1.2928 - accuracy: 0.3987 - val_loss: 1.1769 - val_accuracy: 0.4986\n",
            "Epoch 6/1000\n",
            "1/9 [==>...........................] - ETA: 0s - loss: 1.2364 - accuracy: 0.4531\n",
            "Epoch 6: saving model to keypoint_classifier.hdf5\n",
            "9/9 [==============================] - 0s 7ms/step - loss: 1.2595 - accuracy: 0.4101 - val_loss: 1.1427 - val_accuracy: 0.4986\n",
            "Epoch 7/1000\n",
            "1/9 [==>...........................] - ETA: 0s - loss: 1.2407 - accuracy: 0.4375\n",
            "Epoch 7: saving model to keypoint_classifier.hdf5\n",
            "9/9 [==============================] - 0s 10ms/step - loss: 1.2270 - accuracy: 0.4302 - val_loss: 1.1090 - val_accuracy: 0.4986\n",
            "Epoch 8/1000\n",
            "1/9 [==>...........................] - ETA: 0s - loss: 1.2137 - accuracy: 0.3984\n",
            "Epoch 8: saving model to keypoint_classifier.hdf5\n",
            "9/9 [==============================] - 0s 8ms/step - loss: 1.1950 - accuracy: 0.4589 - val_loss: 1.0731 - val_accuracy: 0.5100\n",
            "Epoch 9/1000\n",
            "1/9 [==>...........................] - ETA: 0s - loss: 1.1781 - accuracy: 0.4297\n",
            "Epoch 9: saving model to keypoint_classifier.hdf5\n",
            "9/9 [==============================] - 0s 7ms/step - loss: 1.1731 - accuracy: 0.4455 - val_loss: 1.0371 - val_accuracy: 0.5129\n",
            "Epoch 10/1000\n",
            "1/9 [==>...........................] - ETA: 0s - loss: 1.1965 - accuracy: 0.3750\n",
            "Epoch 10: saving model to keypoint_classifier.hdf5\n",
            "9/9 [==============================] - 0s 7ms/step - loss: 1.1490 - accuracy: 0.4532 - val_loss: 1.0029 - val_accuracy: 0.5358\n",
            "Epoch 11/1000\n",
            "1/9 [==>...........................] - ETA: 0s - loss: 1.1740 - accuracy: 0.4375\n",
            "Epoch 11: saving model to keypoint_classifier.hdf5\n",
            "9/9 [==============================] - 0s 7ms/step - loss: 1.1110 - accuracy: 0.4818 - val_loss: 0.9674 - val_accuracy: 0.5501\n",
            "Epoch 12/1000\n",
            "1/9 [==>...........................] - ETA: 0s - loss: 1.1230 - accuracy: 0.4766\n",
            "Epoch 12: saving model to keypoint_classifier.hdf5\n",
            "9/9 [==============================] - 0s 6ms/step - loss: 1.0607 - accuracy: 0.5220 - val_loss: 0.9294 - val_accuracy: 0.6275\n",
            "Epoch 13/1000\n",
            "1/9 [==>...........................] - ETA: 0s - loss: 1.1141 - accuracy: 0.4609\n",
            "Epoch 13: saving model to keypoint_classifier.hdf5\n",
            "9/9 [==============================] - 0s 8ms/step - loss: 1.0592 - accuracy: 0.5048 - val_loss: 0.8916 - val_accuracy: 0.6533\n",
            "Epoch 14/1000\n",
            "1/9 [==>...........................] - ETA: 0s - loss: 1.0271 - accuracy: 0.5000\n",
            "Epoch 14: saving model to keypoint_classifier.hdf5\n",
            "9/9 [==============================] - 0s 7ms/step - loss: 1.0384 - accuracy: 0.5076 - val_loss: 0.8527 - val_accuracy: 0.6648\n",
            "Epoch 15/1000\n",
            "1/9 [==>...........................] - ETA: 0s - loss: 1.0427 - accuracy: 0.4219\n",
            "Epoch 15: saving model to keypoint_classifier.hdf5\n",
            "9/9 [==============================] - 0s 7ms/step - loss: 0.9878 - accuracy: 0.5325 - val_loss: 0.8160 - val_accuracy: 0.8252\n",
            "Epoch 16/1000\n",
            "1/9 [==>...........................] - ETA: 0s - loss: 0.9913 - accuracy: 0.5078\n",
            "Epoch 16: saving model to keypoint_classifier.hdf5\n",
            "9/9 [==============================] - 0s 7ms/step - loss: 0.9868 - accuracy: 0.5105 - val_loss: 0.7786 - val_accuracy: 0.8481\n",
            "Epoch 17/1000\n",
            "1/9 [==>...........................] - ETA: 0s - loss: 0.9453 - accuracy: 0.5703\n",
            "Epoch 17: saving model to keypoint_classifier.hdf5\n",
            "9/9 [==============================] - 0s 7ms/step - loss: 0.9296 - accuracy: 0.5554 - val_loss: 0.7411 - val_accuracy: 0.8711\n",
            "Epoch 18/1000\n",
            "1/9 [==>...........................] - ETA: 0s - loss: 0.9183 - accuracy: 0.5859\n",
            "Epoch 18: saving model to keypoint_classifier.hdf5\n",
            "9/9 [==============================] - 0s 9ms/step - loss: 0.9164 - accuracy: 0.5631 - val_loss: 0.7127 - val_accuracy: 0.8854\n",
            "Epoch 19/1000\n",
            "1/9 [==>...........................] - ETA: 0s - loss: 0.8707 - accuracy: 0.5781\n",
            "Epoch 19: saving model to keypoint_classifier.hdf5\n",
            "9/9 [==============================] - 0s 9ms/step - loss: 0.8656 - accuracy: 0.5899 - val_loss: 0.6880 - val_accuracy: 0.8968\n",
            "Epoch 20/1000\n",
            "1/9 [==>...........................] - ETA: 0s - loss: 0.8917 - accuracy: 0.5391\n",
            "Epoch 20: saving model to keypoint_classifier.hdf5\n",
            "9/9 [==============================] - 0s 7ms/step - loss: 0.8826 - accuracy: 0.5899 - val_loss: 0.6575 - val_accuracy: 0.8825\n",
            "Epoch 21/1000\n",
            "1/9 [==>...........................] - ETA: 0s - loss: 0.7957 - accuracy: 0.6562\n",
            "Epoch 21: saving model to keypoint_classifier.hdf5\n",
            "9/9 [==============================] - 0s 7ms/step - loss: 0.8266 - accuracy: 0.6147 - val_loss: 0.6314 - val_accuracy: 0.8768\n",
            "Epoch 22/1000\n",
            "1/9 [==>...........................] - ETA: 0s - loss: 0.8331 - accuracy: 0.6484\n",
            "Epoch 22: saving model to keypoint_classifier.hdf5\n",
            "9/9 [==============================] - 0s 7ms/step - loss: 0.8182 - accuracy: 0.6185 - val_loss: 0.6126 - val_accuracy: 0.8797\n",
            "Epoch 23/1000\n",
            "1/9 [==>...........................] - ETA: 0s - loss: 0.8184 - accuracy: 0.6094\n",
            "Epoch 23: saving model to keypoint_classifier.hdf5\n",
            "9/9 [==============================] - 0s 9ms/step - loss: 0.7693 - accuracy: 0.6577 - val_loss: 0.5885 - val_accuracy: 0.8739\n",
            "Epoch 24/1000\n",
            "1/9 [==>...........................] - ETA: 0s - loss: 0.8013 - accuracy: 0.6406\n",
            "Epoch 24: saving model to keypoint_classifier.hdf5\n",
            "9/9 [==============================] - 0s 8ms/step - loss: 0.7757 - accuracy: 0.6616 - val_loss: 0.5681 - val_accuracy: 0.8711\n",
            "Epoch 25/1000\n",
            "1/9 [==>...........................] - ETA: 0s - loss: 0.7125 - accuracy: 0.7031\n",
            "Epoch 25: saving model to keypoint_classifier.hdf5\n",
            "9/9 [==============================] - 0s 7ms/step - loss: 0.7494 - accuracy: 0.6683 - val_loss: 0.5504 - val_accuracy: 0.8711\n",
            "Epoch 26/1000\n",
            "1/9 [==>...........................] - ETA: 0s - loss: 0.7013 - accuracy: 0.6953\n",
            "Epoch 26: saving model to keypoint_classifier.hdf5\n",
            "9/9 [==============================] - 0s 6ms/step - loss: 0.7489 - accuracy: 0.6520 - val_loss: 0.5374 - val_accuracy: 0.8739\n",
            "Epoch 27/1000\n",
            "1/9 [==>...........................] - ETA: 0s - loss: 0.7414 - accuracy: 0.6875\n",
            "Epoch 27: saving model to keypoint_classifier.hdf5\n",
            "9/9 [==============================] - 0s 7ms/step - loss: 0.7417 - accuracy: 0.6577 - val_loss: 0.5310 - val_accuracy: 0.8825\n",
            "Epoch 28/1000\n",
            "1/9 [==>...........................] - ETA: 0s - loss: 0.7501 - accuracy: 0.6562\n",
            "Epoch 28: saving model to keypoint_classifier.hdf5\n",
            "9/9 [==============================] - 0s 7ms/step - loss: 0.7084 - accuracy: 0.6902 - val_loss: 0.5191 - val_accuracy: 0.8682\n",
            "Epoch 29/1000\n",
            "1/9 [==>...........................] - ETA: 0s - loss: 0.7075 - accuracy: 0.6641\n",
            "Epoch 29: saving model to keypoint_classifier.hdf5\n",
            "9/9 [==============================] - 0s 7ms/step - loss: 0.7219 - accuracy: 0.6644 - val_loss: 0.5057 - val_accuracy: 0.8797\n",
            "Epoch 30/1000\n",
            "1/9 [==>...........................] - ETA: 0s - loss: 0.6761 - accuracy: 0.7031\n",
            "Epoch 30: saving model to keypoint_classifier.hdf5\n",
            "9/9 [==============================] - 0s 6ms/step - loss: 0.7026 - accuracy: 0.6912 - val_loss: 0.4955 - val_accuracy: 0.8854\n",
            "Epoch 31/1000\n",
            "1/9 [==>...........................] - ETA: 0s - loss: 0.6073 - accuracy: 0.7578\n",
            "Epoch 31: saving model to keypoint_classifier.hdf5\n",
            "9/9 [==============================] - 0s 6ms/step - loss: 0.6861 - accuracy: 0.6816 - val_loss: 0.4797 - val_accuracy: 0.8940\n",
            "Epoch 32/1000\n",
            "1/9 [==>...........................] - ETA: 0s - loss: 0.6681 - accuracy: 0.6875\n",
            "Epoch 32: saving model to keypoint_classifier.hdf5\n",
            "9/9 [==============================] - 0s 6ms/step - loss: 0.6953 - accuracy: 0.6864 - val_loss: 0.4731 - val_accuracy: 0.8997\n",
            "Epoch 33/1000\n",
            "1/9 [==>...........................] - ETA: 0s - loss: 0.7166 - accuracy: 0.6484\n",
            "Epoch 33: saving model to keypoint_classifier.hdf5\n",
            "9/9 [==============================] - 0s 7ms/step - loss: 0.6718 - accuracy: 0.6902 - val_loss: 0.4669 - val_accuracy: 0.8940\n",
            "Epoch 34/1000\n",
            "1/9 [==>...........................] - ETA: 0s - loss: 0.6905 - accuracy: 0.6797\n",
            "Epoch 34: saving model to keypoint_classifier.hdf5\n",
            "9/9 [==============================] - 0s 7ms/step - loss: 0.6827 - accuracy: 0.6874 - val_loss: 0.4581 - val_accuracy: 0.8940\n",
            "Epoch 35/1000\n",
            "1/9 [==>...........................] - ETA: 0s - loss: 0.6586 - accuracy: 0.7500\n",
            "Epoch 35: saving model to keypoint_classifier.hdf5\n",
            "9/9 [==============================] - 0s 7ms/step - loss: 0.6708 - accuracy: 0.7027 - val_loss: 0.4479 - val_accuracy: 0.8968\n",
            "Epoch 36/1000\n",
            "1/9 [==>...........................] - ETA: 0s - loss: 0.6453 - accuracy: 0.7578\n",
            "Epoch 36: saving model to keypoint_classifier.hdf5\n",
            "9/9 [==============================] - 0s 7ms/step - loss: 0.6660 - accuracy: 0.7046 - val_loss: 0.4410 - val_accuracy: 0.8940\n",
            "Epoch 37/1000\n",
            "1/9 [==>...........................] - ETA: 0s - loss: 0.6789 - accuracy: 0.7031\n",
            "Epoch 37: saving model to keypoint_classifier.hdf5\n",
            "9/9 [==============================] - 0s 6ms/step - loss: 0.6456 - accuracy: 0.7017 - val_loss: 0.4297 - val_accuracy: 0.8997\n",
            "Epoch 38/1000\n",
            "1/9 [==>...........................] - ETA: 0s - loss: 0.6149 - accuracy: 0.6953\n",
            "Epoch 38: saving model to keypoint_classifier.hdf5\n",
            "9/9 [==============================] - 0s 6ms/step - loss: 0.6417 - accuracy: 0.7122 - val_loss: 0.4179 - val_accuracy: 0.9112\n",
            "Epoch 39/1000\n",
            "1/9 [==>...........................] - ETA: 0s - loss: 0.5854 - accuracy: 0.7578\n",
            "Epoch 39: saving model to keypoint_classifier.hdf5\n",
            "9/9 [==============================] - 0s 8ms/step - loss: 0.6262 - accuracy: 0.7438 - val_loss: 0.4118 - val_accuracy: 0.8968\n",
            "Epoch 40/1000\n",
            "1/9 [==>...........................] - ETA: 0s - loss: 0.6811 - accuracy: 0.6562\n",
            "Epoch 40: saving model to keypoint_classifier.hdf5\n",
            "9/9 [==============================] - 0s 6ms/step - loss: 0.6253 - accuracy: 0.7218 - val_loss: 0.4055 - val_accuracy: 0.8968\n",
            "Epoch 41/1000\n",
            "1/9 [==>...........................] - ETA: 0s - loss: 0.6948 - accuracy: 0.7031\n",
            "Epoch 41: saving model to keypoint_classifier.hdf5\n",
            "9/9 [==============================] - 0s 6ms/step - loss: 0.6013 - accuracy: 0.7361 - val_loss: 0.3895 - val_accuracy: 0.9026\n",
            "Epoch 42/1000\n",
            "1/9 [==>...........................] - ETA: 0s - loss: 0.6564 - accuracy: 0.7266\n",
            "Epoch 42: saving model to keypoint_classifier.hdf5\n",
            "9/9 [==============================] - 0s 6ms/step - loss: 0.6051 - accuracy: 0.7323 - val_loss: 0.3830 - val_accuracy: 0.8997\n",
            "Epoch 43/1000\n",
            "1/9 [==>...........................] - ETA: 0s - loss: 0.5797 - accuracy: 0.7656\n",
            "Epoch 43: saving model to keypoint_classifier.hdf5\n",
            "9/9 [==============================] - 0s 7ms/step - loss: 0.6022 - accuracy: 0.7333 - val_loss: 0.3710 - val_accuracy: 0.9026\n",
            "Epoch 44/1000\n",
            "1/9 [==>...........................] - ETA: 0s - loss: 0.5150 - accuracy: 0.7578\n",
            "Epoch 44: saving model to keypoint_classifier.hdf5\n",
            "9/9 [==============================] - 0s 6ms/step - loss: 0.5795 - accuracy: 0.7438 - val_loss: 0.3667 - val_accuracy: 0.9083\n",
            "Epoch 45/1000\n",
            "1/9 [==>...........................] - ETA: 0s - loss: 0.5979 - accuracy: 0.7422\n",
            "Epoch 45: saving model to keypoint_classifier.hdf5\n",
            "9/9 [==============================] - 0s 7ms/step - loss: 0.5950 - accuracy: 0.7361 - val_loss: 0.3631 - val_accuracy: 0.9054\n",
            "Epoch 46/1000\n",
            "1/9 [==>...........................] - ETA: 0s - loss: 0.7006 - accuracy: 0.7031\n",
            "Epoch 46: saving model to keypoint_classifier.hdf5\n",
            "9/9 [==============================] - 0s 6ms/step - loss: 0.5897 - accuracy: 0.7524 - val_loss: 0.3551 - val_accuracy: 0.9140\n",
            "Epoch 47/1000\n",
            "1/9 [==>...........................] - ETA: 0s - loss: 0.5405 - accuracy: 0.7969\n",
            "Epoch 47: saving model to keypoint_classifier.hdf5\n",
            "9/9 [==============================] - 0s 7ms/step - loss: 0.5777 - accuracy: 0.7562 - val_loss: 0.3455 - val_accuracy: 0.9284\n",
            "Epoch 48/1000\n",
            "1/9 [==>...........................] - ETA: 0s - loss: 0.4943 - accuracy: 0.8125\n",
            "Epoch 48: saving model to keypoint_classifier.hdf5\n",
            "9/9 [==============================] - 0s 6ms/step - loss: 0.5518 - accuracy: 0.7629 - val_loss: 0.3345 - val_accuracy: 0.9284\n",
            "Epoch 49/1000\n",
            "1/9 [==>...........................] - ETA: 0s - loss: 0.5307 - accuracy: 0.7578\n",
            "Epoch 49: saving model to keypoint_classifier.hdf5\n",
            "9/9 [==============================] - 0s 6ms/step - loss: 0.5839 - accuracy: 0.7342 - val_loss: 0.3237 - val_accuracy: 0.9542\n",
            "Epoch 50/1000\n",
            "1/9 [==>...........................] - ETA: 0s - loss: 0.5980 - accuracy: 0.7031\n",
            "Epoch 50: saving model to keypoint_classifier.hdf5\n",
            "9/9 [==============================] - 0s 6ms/step - loss: 0.5802 - accuracy: 0.7333 - val_loss: 0.3228 - val_accuracy: 0.9484\n",
            "Epoch 51/1000\n",
            "1/9 [==>...........................] - ETA: 0s - loss: 0.6001 - accuracy: 0.7031\n",
            "Epoch 51: saving model to keypoint_classifier.hdf5\n",
            "9/9 [==============================] - 0s 6ms/step - loss: 0.5495 - accuracy: 0.7734 - val_loss: 0.3235 - val_accuracy: 0.9398\n",
            "Epoch 52/1000\n",
            "1/9 [==>...........................] - ETA: 0s - loss: 0.4528 - accuracy: 0.8281\n",
            "Epoch 52: saving model to keypoint_classifier.hdf5\n",
            "9/9 [==============================] - 0s 6ms/step - loss: 0.5596 - accuracy: 0.7706 - val_loss: 0.3204 - val_accuracy: 0.9398\n",
            "Epoch 53/1000\n",
            "1/9 [==>...........................] - ETA: 0s - loss: 0.5267 - accuracy: 0.8281\n",
            "Epoch 53: saving model to keypoint_classifier.hdf5\n",
            "9/9 [==============================] - 0s 6ms/step - loss: 0.5506 - accuracy: 0.7763 - val_loss: 0.3126 - val_accuracy: 0.9484\n",
            "Epoch 54/1000\n",
            "1/9 [==>...........................] - ETA: 0s - loss: 0.5660 - accuracy: 0.7500\n",
            "Epoch 54: saving model to keypoint_classifier.hdf5\n",
            "9/9 [==============================] - 0s 7ms/step - loss: 0.5695 - accuracy: 0.7505 - val_loss: 0.3081 - val_accuracy: 0.9484\n",
            "Epoch 55/1000\n",
            "1/9 [==>...........................] - ETA: 0s - loss: 0.5597 - accuracy: 0.7656\n",
            "Epoch 55: saving model to keypoint_classifier.hdf5\n",
            "9/9 [==============================] - 0s 8ms/step - loss: 0.5366 - accuracy: 0.7763 - val_loss: 0.3027 - val_accuracy: 0.9484\n",
            "Epoch 56/1000\n",
            "1/9 [==>...........................] - ETA: 0s - loss: 0.5602 - accuracy: 0.7422\n",
            "Epoch 56: saving model to keypoint_classifier.hdf5\n",
            "9/9 [==============================] - 0s 7ms/step - loss: 0.5292 - accuracy: 0.7763 - val_loss: 0.2977 - val_accuracy: 0.9284\n",
            "Epoch 57/1000\n",
            "1/9 [==>...........................] - ETA: 0s - loss: 0.5377 - accuracy: 0.7734\n",
            "Epoch 57: saving model to keypoint_classifier.hdf5\n",
            "9/9 [==============================] - 0s 7ms/step - loss: 0.4893 - accuracy: 0.8021 - val_loss: 0.2934 - val_accuracy: 0.9284\n",
            "Epoch 58/1000\n",
            "1/9 [==>...........................] - ETA: 0s - loss: 0.4602 - accuracy: 0.8125\n",
            "Epoch 58: saving model to keypoint_classifier.hdf5\n",
            "9/9 [==============================] - 0s 6ms/step - loss: 0.5421 - accuracy: 0.7734 - val_loss: 0.2895 - val_accuracy: 0.9370\n",
            "Epoch 59/1000\n",
            "1/9 [==>...........................] - ETA: 0s - loss: 0.5027 - accuracy: 0.8047\n",
            "Epoch 59: saving model to keypoint_classifier.hdf5\n",
            "9/9 [==============================] - 0s 6ms/step - loss: 0.5336 - accuracy: 0.7734 - val_loss: 0.2809 - val_accuracy: 0.9513\n",
            "Epoch 60/1000\n",
            "1/9 [==>...........................] - ETA: 0s - loss: 0.5021 - accuracy: 0.7578\n",
            "Epoch 60: saving model to keypoint_classifier.hdf5\n",
            "9/9 [==============================] - 0s 6ms/step - loss: 0.5153 - accuracy: 0.7897 - val_loss: 0.2757 - val_accuracy: 0.9628\n",
            "Epoch 61/1000\n",
            "1/9 [==>...........................] - ETA: 0s - loss: 0.4845 - accuracy: 0.8516\n",
            "Epoch 61: saving model to keypoint_classifier.hdf5\n",
            "9/9 [==============================] - 0s 6ms/step - loss: 0.5094 - accuracy: 0.7945 - val_loss: 0.2713 - val_accuracy: 0.9570\n",
            "Epoch 62/1000\n",
            "1/9 [==>...........................] - ETA: 0s - loss: 0.5452 - accuracy: 0.7734\n",
            "Epoch 62: saving model to keypoint_classifier.hdf5\n",
            "9/9 [==============================] - 0s 6ms/step - loss: 0.5395 - accuracy: 0.7667 - val_loss: 0.2699 - val_accuracy: 0.9513\n",
            "Epoch 63/1000\n",
            "1/9 [==>...........................] - ETA: 0s - loss: 0.4396 - accuracy: 0.7969\n",
            "Epoch 63: saving model to keypoint_classifier.hdf5\n",
            "9/9 [==============================] - 0s 6ms/step - loss: 0.4997 - accuracy: 0.7830 - val_loss: 0.2607 - val_accuracy: 0.9599\n",
            "Epoch 64/1000\n",
            "1/9 [==>...........................] - ETA: 0s - loss: 0.5130 - accuracy: 0.8125\n",
            "Epoch 64: saving model to keypoint_classifier.hdf5\n",
            "9/9 [==============================] - 0s 6ms/step - loss: 0.4967 - accuracy: 0.7925 - val_loss: 0.2562 - val_accuracy: 0.9656\n",
            "Epoch 65/1000\n",
            "1/9 [==>...........................] - ETA: 0s - loss: 0.4966 - accuracy: 0.8047\n",
            "Epoch 65: saving model to keypoint_classifier.hdf5\n",
            "9/9 [==============================] - 0s 7ms/step - loss: 0.5060 - accuracy: 0.7945 - val_loss: 0.2525 - val_accuracy: 0.9656\n",
            "Epoch 66/1000\n",
            "1/9 [==>...........................] - ETA: 0s - loss: 0.5151 - accuracy: 0.7734\n",
            "Epoch 66: saving model to keypoint_classifier.hdf5\n",
            "9/9 [==============================] - 0s 7ms/step - loss: 0.5024 - accuracy: 0.7772 - val_loss: 0.2508 - val_accuracy: 0.9685\n",
            "Epoch 67/1000\n",
            "1/9 [==>...........................] - ETA: 0s - loss: 0.5190 - accuracy: 0.7812\n",
            "Epoch 67: saving model to keypoint_classifier.hdf5\n",
            "9/9 [==============================] - 0s 6ms/step - loss: 0.4852 - accuracy: 0.7916 - val_loss: 0.2494 - val_accuracy: 0.9885\n",
            "Epoch 68/1000\n",
            "1/9 [==>...........................] - ETA: 0s - loss: 0.5050 - accuracy: 0.8047\n",
            "Epoch 68: saving model to keypoint_classifier.hdf5\n",
            "9/9 [==============================] - 0s 6ms/step - loss: 0.4739 - accuracy: 0.8040 - val_loss: 0.2483 - val_accuracy: 0.9771\n",
            "Epoch 69/1000\n",
            "1/9 [==>...........................] - ETA: 0s - loss: 0.4249 - accuracy: 0.8516\n",
            "Epoch 69: saving model to keypoint_classifier.hdf5\n",
            "9/9 [==============================] - 0s 6ms/step - loss: 0.4681 - accuracy: 0.8088 - val_loss: 0.2368 - val_accuracy: 0.9713\n",
            "Epoch 70/1000\n",
            "1/9 [==>...........................] - ETA: 0s - loss: 0.4481 - accuracy: 0.8047\n",
            "Epoch 70: saving model to keypoint_classifier.hdf5\n",
            "9/9 [==============================] - 0s 6ms/step - loss: 0.4679 - accuracy: 0.8040 - val_loss: 0.2233 - val_accuracy: 0.9828\n",
            "Epoch 71/1000\n",
            "1/9 [==>...........................] - ETA: 0s - loss: 0.4831 - accuracy: 0.7969\n",
            "Epoch 71: saving model to keypoint_classifier.hdf5\n",
            "9/9 [==============================] - 0s 6ms/step - loss: 0.4942 - accuracy: 0.7878 - val_loss: 0.2203 - val_accuracy: 0.9771\n",
            "Epoch 72/1000\n",
            "1/9 [==>...........................] - ETA: 0s - loss: 0.5528 - accuracy: 0.7969\n",
            "Epoch 72: saving model to keypoint_classifier.hdf5\n",
            "9/9 [==============================] - 0s 6ms/step - loss: 0.4759 - accuracy: 0.8050 - val_loss: 0.2246 - val_accuracy: 0.9713\n",
            "Epoch 73/1000\n",
            "1/9 [==>...........................] - ETA: 0s - loss: 0.5130 - accuracy: 0.7344\n",
            "Epoch 73: saving model to keypoint_classifier.hdf5\n",
            "9/9 [==============================] - 0s 7ms/step - loss: 0.4685 - accuracy: 0.8031 - val_loss: 0.2222 - val_accuracy: 0.9828\n",
            "Epoch 74/1000\n",
            "1/9 [==>...........................] - ETA: 0s - loss: 0.4700 - accuracy: 0.8281\n",
            "Epoch 74: saving model to keypoint_classifier.hdf5\n",
            "9/9 [==============================] - 0s 7ms/step - loss: 0.4837 - accuracy: 0.8078 - val_loss: 0.2156 - val_accuracy: 0.9885\n",
            "Epoch 75/1000\n",
            "1/9 [==>...........................] - ETA: 0s - loss: 0.3849 - accuracy: 0.8672\n",
            "Epoch 75: saving model to keypoint_classifier.hdf5\n",
            "9/9 [==============================] - 0s 7ms/step - loss: 0.4318 - accuracy: 0.8308 - val_loss: 0.2091 - val_accuracy: 0.9885\n",
            "Epoch 76/1000\n",
            "1/9 [==>...........................] - ETA: 0s - loss: 0.4665 - accuracy: 0.7656\n",
            "Epoch 76: saving model to keypoint_classifier.hdf5\n",
            "9/9 [==============================] - 0s 8ms/step - loss: 0.5048 - accuracy: 0.7849 - val_loss: 0.2091 - val_accuracy: 0.9885\n",
            "Epoch 77/1000\n",
            "1/9 [==>...........................] - ETA: 0s - loss: 0.4997 - accuracy: 0.7891\n",
            "Epoch 77: saving model to keypoint_classifier.hdf5\n",
            "9/9 [==============================] - 0s 6ms/step - loss: 0.4592 - accuracy: 0.8088 - val_loss: 0.2101 - val_accuracy: 0.9885\n",
            "Epoch 78/1000\n",
            "1/9 [==>...........................] - ETA: 0s - loss: 0.5923 - accuracy: 0.7812\n",
            "Epoch 78: saving model to keypoint_classifier.hdf5\n",
            "9/9 [==============================] - 0s 6ms/step - loss: 0.4457 - accuracy: 0.8222 - val_loss: 0.1998 - val_accuracy: 0.9914\n",
            "Epoch 79/1000\n",
            "1/9 [==>...........................] - ETA: 0s - loss: 0.4107 - accuracy: 0.8359\n",
            "Epoch 79: saving model to keypoint_classifier.hdf5\n",
            "9/9 [==============================] - 0s 6ms/step - loss: 0.4362 - accuracy: 0.8308 - val_loss: 0.1972 - val_accuracy: 0.9943\n",
            "Epoch 80/1000\n",
            "1/9 [==>...........................] - ETA: 0s - loss: 0.4605 - accuracy: 0.8125\n",
            "Epoch 80: saving model to keypoint_classifier.hdf5\n",
            "9/9 [==============================] - 0s 6ms/step - loss: 0.4212 - accuracy: 0.8270 - val_loss: 0.1919 - val_accuracy: 0.9943\n",
            "Epoch 81/1000\n",
            "1/9 [==>...........................] - ETA: 0s - loss: 0.5042 - accuracy: 0.8125\n",
            "Epoch 81: saving model to keypoint_classifier.hdf5\n",
            "9/9 [==============================] - 0s 6ms/step - loss: 0.4456 - accuracy: 0.8011 - val_loss: 0.1907 - val_accuracy: 0.9943\n",
            "Epoch 82/1000\n",
            "1/9 [==>...........................] - ETA: 0s - loss: 0.4499 - accuracy: 0.7734\n",
            "Epoch 82: saving model to keypoint_classifier.hdf5\n",
            "9/9 [==============================] - 0s 6ms/step - loss: 0.4627 - accuracy: 0.7878 - val_loss: 0.1866 - val_accuracy: 0.9943\n",
            "Epoch 83/1000\n",
            "1/9 [==>...........................] - ETA: 0s - loss: 0.5033 - accuracy: 0.7891\n",
            "Epoch 83: saving model to keypoint_classifier.hdf5\n",
            "9/9 [==============================] - 0s 6ms/step - loss: 0.4351 - accuracy: 0.8231 - val_loss: 0.1796 - val_accuracy: 0.9943\n",
            "Epoch 84/1000\n",
            "1/9 [==>...........................] - ETA: 0s - loss: 0.4446 - accuracy: 0.8438\n",
            "Epoch 84: saving model to keypoint_classifier.hdf5\n",
            "9/9 [==============================] - 0s 7ms/step - loss: 0.4419 - accuracy: 0.8231 - val_loss: 0.1778 - val_accuracy: 0.9914\n",
            "Epoch 85/1000\n",
            "1/9 [==>...........................] - ETA: 0s - loss: 0.4964 - accuracy: 0.7969\n",
            "Epoch 85: saving model to keypoint_classifier.hdf5\n",
            "9/9 [==============================] - 0s 8ms/step - loss: 0.4504 - accuracy: 0.8241 - val_loss: 0.1794 - val_accuracy: 0.9885\n",
            "Epoch 86/1000\n",
            "1/9 [==>...........................] - ETA: 0s - loss: 0.3816 - accuracy: 0.8672\n",
            "Epoch 86: saving model to keypoint_classifier.hdf5\n",
            "9/9 [==============================] - 0s 7ms/step - loss: 0.4468 - accuracy: 0.8212 - val_loss: 0.1792 - val_accuracy: 0.9885\n",
            "Epoch 87/1000\n",
            "1/9 [==>...........................] - ETA: 0s - loss: 0.4529 - accuracy: 0.7891\n",
            "Epoch 87: saving model to keypoint_classifier.hdf5\n",
            "9/9 [==============================] - 0s 7ms/step - loss: 0.4163 - accuracy: 0.8375 - val_loss: 0.1757 - val_accuracy: 0.9943\n",
            "Epoch 88/1000\n",
            "1/9 [==>...........................] - ETA: 0s - loss: 0.3934 - accuracy: 0.8359\n",
            "Epoch 88: saving model to keypoint_classifier.hdf5\n",
            "9/9 [==============================] - 0s 7ms/step - loss: 0.4304 - accuracy: 0.8413 - val_loss: 0.1707 - val_accuracy: 0.9943\n",
            "Epoch 89/1000\n",
            "1/9 [==>...........................] - ETA: 0s - loss: 0.4884 - accuracy: 0.8203\n",
            "Epoch 89: saving model to keypoint_classifier.hdf5\n",
            "9/9 [==============================] - 0s 7ms/step - loss: 0.4598 - accuracy: 0.8126 - val_loss: 0.1711 - val_accuracy: 0.9943\n",
            "Epoch 90/1000\n",
            "1/9 [==>...........................] - ETA: 0s - loss: 0.3891 - accuracy: 0.8438\n",
            "Epoch 90: saving model to keypoint_classifier.hdf5\n",
            "9/9 [==============================] - 0s 7ms/step - loss: 0.4239 - accuracy: 0.8241 - val_loss: 0.1733 - val_accuracy: 0.9943\n",
            "Epoch 91/1000\n",
            "1/9 [==>...........................] - ETA: 0s - loss: 0.5249 - accuracy: 0.7500\n",
            "Epoch 91: saving model to keypoint_classifier.hdf5\n",
            "9/9 [==============================] - 0s 8ms/step - loss: 0.4566 - accuracy: 0.8107 - val_loss: 0.1691 - val_accuracy: 0.9943\n",
            "Epoch 92/1000\n",
            "1/9 [==>...........................] - ETA: 0s - loss: 0.4945 - accuracy: 0.7891\n",
            "Epoch 92: saving model to keypoint_classifier.hdf5\n",
            "9/9 [==============================] - 0s 7ms/step - loss: 0.4306 - accuracy: 0.8365 - val_loss: 0.1627 - val_accuracy: 0.9943\n",
            "Epoch 93/1000\n",
            "1/9 [==>...........................] - ETA: 0s - loss: 0.4145 - accuracy: 0.8359\n",
            "Epoch 93: saving model to keypoint_classifier.hdf5\n",
            "9/9 [==============================] - 0s 8ms/step - loss: 0.4104 - accuracy: 0.8384 - val_loss: 0.1560 - val_accuracy: 0.9943\n",
            "Epoch 94/1000\n",
            "1/9 [==>...........................] - ETA: 0s - loss: 0.4073 - accuracy: 0.8516\n",
            "Epoch 94: saving model to keypoint_classifier.hdf5\n",
            "9/9 [==============================] - 0s 8ms/step - loss: 0.4184 - accuracy: 0.8337 - val_loss: 0.1582 - val_accuracy: 0.9943\n",
            "Epoch 95/1000\n",
            "1/9 [==>...........................] - ETA: 0s - loss: 0.4089 - accuracy: 0.8359\n",
            "Epoch 95: saving model to keypoint_classifier.hdf5\n",
            "9/9 [==============================] - 0s 8ms/step - loss: 0.4084 - accuracy: 0.8241 - val_loss: 0.1590 - val_accuracy: 0.9914\n",
            "Epoch 96/1000\n",
            "1/9 [==>...........................] - ETA: 0s - loss: 0.4171 - accuracy: 0.8438\n",
            "Epoch 96: saving model to keypoint_classifier.hdf5\n",
            "9/9 [==============================] - 0s 8ms/step - loss: 0.4220 - accuracy: 0.8317 - val_loss: 0.1556 - val_accuracy: 0.9914\n",
            "Epoch 97/1000\n",
            "1/9 [==>...........................] - ETA: 0s - loss: 0.4215 - accuracy: 0.8438\n",
            "Epoch 97: saving model to keypoint_classifier.hdf5\n",
            "9/9 [==============================] - 0s 6ms/step - loss: 0.4139 - accuracy: 0.8394 - val_loss: 0.1523 - val_accuracy: 0.9914\n",
            "Epoch 98/1000\n",
            "1/9 [==>...........................] - ETA: 0s - loss: 0.4860 - accuracy: 0.7969\n",
            "Epoch 98: saving model to keypoint_classifier.hdf5\n",
            "9/9 [==============================] - 0s 6ms/step - loss: 0.4325 - accuracy: 0.8394 - val_loss: 0.1573 - val_accuracy: 0.9857\n",
            "Epoch 99/1000\n",
            "1/9 [==>...........................] - ETA: 0s - loss: 0.3229 - accuracy: 0.8906\n",
            "Epoch 99: saving model to keypoint_classifier.hdf5\n",
            "9/9 [==============================] - 0s 7ms/step - loss: 0.3856 - accuracy: 0.8489 - val_loss: 0.1562 - val_accuracy: 0.9943\n",
            "Epoch 100/1000\n",
            "1/9 [==>...........................] - ETA: 0s - loss: 0.4877 - accuracy: 0.8047\n",
            "Epoch 100: saving model to keypoint_classifier.hdf5\n",
            "9/9 [==============================] - 0s 7ms/step - loss: 0.4037 - accuracy: 0.8337 - val_loss: 0.1549 - val_accuracy: 0.9943\n",
            "Epoch 101/1000\n",
            "1/9 [==>...........................] - ETA: 0s - loss: 0.3721 - accuracy: 0.8516\n",
            "Epoch 101: saving model to keypoint_classifier.hdf5\n",
            "9/9 [==============================] - 0s 10ms/step - loss: 0.3799 - accuracy: 0.8394 - val_loss: 0.1520 - val_accuracy: 0.9943\n",
            "Epoch 102/1000\n",
            "1/9 [==>...........................] - ETA: 0s - loss: 0.4086 - accuracy: 0.8672\n",
            "Epoch 102: saving model to keypoint_classifier.hdf5\n",
            "9/9 [==============================] - 0s 7ms/step - loss: 0.3875 - accuracy: 0.8595 - val_loss: 0.1494 - val_accuracy: 0.9914\n",
            "Epoch 103/1000\n",
            "1/9 [==>...........................] - ETA: 0s - loss: 0.3705 - accuracy: 0.8516\n",
            "Epoch 103: saving model to keypoint_classifier.hdf5\n",
            "9/9 [==============================] - 0s 8ms/step - loss: 0.3721 - accuracy: 0.8566 - val_loss: 0.1467 - val_accuracy: 0.9914\n",
            "Epoch 104/1000\n",
            "1/9 [==>...........................] - ETA: 0s - loss: 0.3562 - accuracy: 0.8438\n",
            "Epoch 104: saving model to keypoint_classifier.hdf5\n",
            "9/9 [==============================] - 0s 9ms/step - loss: 0.3756 - accuracy: 0.8499 - val_loss: 0.1438 - val_accuracy: 0.9943\n",
            "Epoch 105/1000\n",
            "1/9 [==>...........................] - ETA: 0s - loss: 0.4789 - accuracy: 0.7500\n",
            "Epoch 105: saving model to keypoint_classifier.hdf5\n",
            "9/9 [==============================] - 0s 8ms/step - loss: 0.4017 - accuracy: 0.8327 - val_loss: 0.1377 - val_accuracy: 0.9943\n",
            "Epoch 106/1000\n",
            "1/9 [==>...........................] - ETA: 0s - loss: 0.3679 - accuracy: 0.8672\n",
            "Epoch 106: saving model to keypoint_classifier.hdf5\n",
            "9/9 [==============================] - 0s 9ms/step - loss: 0.3669 - accuracy: 0.8547 - val_loss: 0.1317 - val_accuracy: 0.9943\n",
            "Epoch 107/1000\n",
            "1/9 [==>...........................] - ETA: 0s - loss: 0.3798 - accuracy: 0.8594\n",
            "Epoch 107: saving model to keypoint_classifier.hdf5\n",
            "9/9 [==============================] - 0s 9ms/step - loss: 0.3890 - accuracy: 0.8585 - val_loss: 0.1332 - val_accuracy: 0.9943\n",
            "Epoch 108/1000\n",
            "1/9 [==>...........................] - ETA: 0s - loss: 0.3810 - accuracy: 0.8750\n",
            "Epoch 108: saving model to keypoint_classifier.hdf5\n",
            "9/9 [==============================] - 0s 10ms/step - loss: 0.3950 - accuracy: 0.8489 - val_loss: 0.1359 - val_accuracy: 0.9943\n",
            "Epoch 109/1000\n",
            "1/9 [==>...........................] - ETA: 0s - loss: 0.4629 - accuracy: 0.8281\n",
            "Epoch 109: saving model to keypoint_classifier.hdf5\n",
            "9/9 [==============================] - 0s 7ms/step - loss: 0.3899 - accuracy: 0.8509 - val_loss: 0.1317 - val_accuracy: 0.9943\n",
            "Epoch 110/1000\n",
            "1/9 [==>...........................] - ETA: 0s - loss: 0.3883 - accuracy: 0.8438\n",
            "Epoch 110: saving model to keypoint_classifier.hdf5\n",
            "9/9 [==============================] - 0s 7ms/step - loss: 0.3713 - accuracy: 0.8518 - val_loss: 0.1273 - val_accuracy: 0.9943\n",
            "Epoch 111/1000\n",
            "1/9 [==>...........................] - ETA: 0s - loss: 0.4181 - accuracy: 0.8047\n",
            "Epoch 111: saving model to keypoint_classifier.hdf5\n",
            "9/9 [==============================] - 0s 8ms/step - loss: 0.3786 - accuracy: 0.8470 - val_loss: 0.1258 - val_accuracy: 0.9943\n",
            "Epoch 112/1000\n",
            "1/9 [==>...........................] - ETA: 0s - loss: 0.2798 - accuracy: 0.9062\n",
            "Epoch 112: saving model to keypoint_classifier.hdf5\n",
            "9/9 [==============================] - 0s 7ms/step - loss: 0.3409 - accuracy: 0.8652 - val_loss: 0.1209 - val_accuracy: 0.9943\n",
            "Epoch 113/1000\n",
            "1/9 [==>...........................] - ETA: 0s - loss: 0.3303 - accuracy: 0.8672\n",
            "Epoch 113: saving model to keypoint_classifier.hdf5\n",
            "9/9 [==============================] - 0s 7ms/step - loss: 0.3841 - accuracy: 0.8499 - val_loss: 0.1138 - val_accuracy: 0.9943\n",
            "Epoch 114/1000\n",
            "1/9 [==>...........................] - ETA: 0s - loss: 0.3344 - accuracy: 0.8750\n",
            "Epoch 114: saving model to keypoint_classifier.hdf5\n",
            "9/9 [==============================] - 0s 7ms/step - loss: 0.3603 - accuracy: 0.8518 - val_loss: 0.1110 - val_accuracy: 0.9943\n",
            "Epoch 115/1000\n",
            "1/9 [==>...........................] - ETA: 0s - loss: 0.4302 - accuracy: 0.8125\n",
            "Epoch 115: saving model to keypoint_classifier.hdf5\n",
            "9/9 [==============================] - 0s 7ms/step - loss: 0.4045 - accuracy: 0.8317 - val_loss: 0.1166 - val_accuracy: 0.9943\n",
            "Epoch 116/1000\n",
            "1/9 [==>...........................] - ETA: 0s - loss: 0.3764 - accuracy: 0.8750\n",
            "Epoch 116: saving model to keypoint_classifier.hdf5\n",
            "9/9 [==============================] - 0s 6ms/step - loss: 0.3783 - accuracy: 0.8528 - val_loss: 0.1142 - val_accuracy: 0.9971\n",
            "Epoch 117/1000\n",
            "1/9 [==>...........................] - ETA: 0s - loss: 0.3466 - accuracy: 0.8750\n",
            "Epoch 117: saving model to keypoint_classifier.hdf5\n",
            "9/9 [==============================] - 0s 6ms/step - loss: 0.3836 - accuracy: 0.8461 - val_loss: 0.1140 - val_accuracy: 0.9943\n",
            "Epoch 118/1000\n",
            "1/9 [==>...........................] - ETA: 0s - loss: 0.2783 - accuracy: 0.9141\n",
            "Epoch 118: saving model to keypoint_classifier.hdf5\n",
            "9/9 [==============================] - 0s 6ms/step - loss: 0.3837 - accuracy: 0.8566 - val_loss: 0.1151 - val_accuracy: 0.9971\n",
            "Epoch 119/1000\n",
            "1/9 [==>...........................] - ETA: 0s - loss: 0.3578 - accuracy: 0.8516\n",
            "Epoch 119: saving model to keypoint_classifier.hdf5\n",
            "9/9 [==============================] - 0s 7ms/step - loss: 0.3528 - accuracy: 0.8633 - val_loss: 0.1131 - val_accuracy: 0.9971\n",
            "Epoch 120/1000\n",
            "1/9 [==>...........................] - ETA: 0s - loss: 0.3127 - accuracy: 0.8984\n",
            "Epoch 120: saving model to keypoint_classifier.hdf5\n",
            "9/9 [==============================] - 0s 9ms/step - loss: 0.3730 - accuracy: 0.8499 - val_loss: 0.1068 - val_accuracy: 0.9943\n",
            "Epoch 121/1000\n",
            "1/9 [==>...........................] - ETA: 0s - loss: 0.3044 - accuracy: 0.9219\n",
            "Epoch 121: saving model to keypoint_classifier.hdf5\n",
            "9/9 [==============================] - 0s 9ms/step - loss: 0.3607 - accuracy: 0.8585 - val_loss: 0.1038 - val_accuracy: 0.9943\n",
            "Epoch 122/1000\n",
            "1/9 [==>...........................] - ETA: 0s - loss: 0.3049 - accuracy: 0.8516\n",
            "Epoch 122: saving model to keypoint_classifier.hdf5\n",
            "9/9 [==============================] - 0s 8ms/step - loss: 0.3631 - accuracy: 0.8547 - val_loss: 0.1061 - val_accuracy: 0.9943\n",
            "Epoch 123/1000\n",
            "1/9 [==>...........................] - ETA: 0s - loss: 0.3987 - accuracy: 0.8594\n",
            "Epoch 123: saving model to keypoint_classifier.hdf5\n",
            "9/9 [==============================] - 0s 7ms/step - loss: 0.3439 - accuracy: 0.8681 - val_loss: 0.1086 - val_accuracy: 0.9943\n",
            "Epoch 124/1000\n",
            "1/9 [==>...........................] - ETA: 0s - loss: 0.3608 - accuracy: 0.8828\n",
            "Epoch 124: saving model to keypoint_classifier.hdf5\n",
            "9/9 [==============================] - 0s 8ms/step - loss: 0.3747 - accuracy: 0.8432 - val_loss: 0.1068 - val_accuracy: 0.9943\n",
            "Epoch 125/1000\n",
            "1/9 [==>...........................] - ETA: 0s - loss: 0.3866 - accuracy: 0.8516\n",
            "Epoch 125: saving model to keypoint_classifier.hdf5\n",
            "9/9 [==============================] - 0s 9ms/step - loss: 0.3481 - accuracy: 0.8585 - val_loss: 0.1043 - val_accuracy: 0.9943\n",
            "Epoch 126/1000\n",
            "1/9 [==>...........................] - ETA: 0s - loss: 0.4258 - accuracy: 0.8047\n",
            "Epoch 126: saving model to keypoint_classifier.hdf5\n",
            "9/9 [==============================] - 0s 8ms/step - loss: 0.3432 - accuracy: 0.8604 - val_loss: 0.1016 - val_accuracy: 0.9943\n",
            "Epoch 127/1000\n",
            "1/9 [==>...........................] - ETA: 0s - loss: 0.4128 - accuracy: 0.8281\n",
            "Epoch 127: saving model to keypoint_classifier.hdf5\n",
            "9/9 [==============================] - 0s 6ms/step - loss: 0.3513 - accuracy: 0.8623 - val_loss: 0.1013 - val_accuracy: 0.9943\n",
            "Epoch 128/1000\n",
            "1/9 [==>...........................] - ETA: 0s - loss: 0.3811 - accuracy: 0.8438\n",
            "Epoch 128: saving model to keypoint_classifier.hdf5\n",
            "9/9 [==============================] - 0s 6ms/step - loss: 0.3519 - accuracy: 0.8423 - val_loss: 0.1027 - val_accuracy: 0.9971\n",
            "Epoch 129/1000\n",
            "1/9 [==>...........................] - ETA: 0s - loss: 0.3183 - accuracy: 0.8984\n",
            "Epoch 129: saving model to keypoint_classifier.hdf5\n",
            "9/9 [==============================] - 0s 7ms/step - loss: 0.3691 - accuracy: 0.8518 - val_loss: 0.0997 - val_accuracy: 0.9971\n",
            "Epoch 130/1000\n",
            "1/9 [==>...........................] - ETA: 0s - loss: 0.3206 - accuracy: 0.8516\n",
            "Epoch 130: saving model to keypoint_classifier.hdf5\n",
            "9/9 [==============================] - 0s 7ms/step - loss: 0.3281 - accuracy: 0.8681 - val_loss: 0.0982 - val_accuracy: 0.9971\n",
            "Epoch 131/1000\n",
            "1/9 [==>...........................] - ETA: 0s - loss: 0.3827 - accuracy: 0.8359\n",
            "Epoch 131: saving model to keypoint_classifier.hdf5\n",
            "9/9 [==============================] - 0s 7ms/step - loss: 0.3294 - accuracy: 0.8757 - val_loss: 0.0966 - val_accuracy: 0.9971\n",
            "Epoch 132/1000\n",
            "1/9 [==>...........................] - ETA: 0s - loss: 0.2971 - accuracy: 0.8984\n",
            "Epoch 132: saving model to keypoint_classifier.hdf5\n",
            "9/9 [==============================] - 0s 7ms/step - loss: 0.3526 - accuracy: 0.8556 - val_loss: 0.0976 - val_accuracy: 0.9943\n",
            "Epoch 133/1000\n",
            "1/9 [==>...........................] - ETA: 0s - loss: 0.3657 - accuracy: 0.8516\n",
            "Epoch 133: saving model to keypoint_classifier.hdf5\n",
            "9/9 [==============================] - 0s 10ms/step - loss: 0.3563 - accuracy: 0.8528 - val_loss: 0.0955 - val_accuracy: 0.9943\n",
            "Epoch 134/1000\n",
            "1/9 [==>...........................] - ETA: 0s - loss: 0.3741 - accuracy: 0.8594\n",
            "Epoch 134: saving model to keypoint_classifier.hdf5\n",
            "9/9 [==============================] - 0s 7ms/step - loss: 0.3573 - accuracy: 0.8604 - val_loss: 0.0958 - val_accuracy: 0.9971\n",
            "Epoch 135/1000\n",
            "1/9 [==>...........................] - ETA: 0s - loss: 0.3962 - accuracy: 0.8438\n",
            "Epoch 135: saving model to keypoint_classifier.hdf5\n",
            "9/9 [==============================] - 0s 6ms/step - loss: 0.3877 - accuracy: 0.8480 - val_loss: 0.0948 - val_accuracy: 0.9971\n",
            "Epoch 136/1000\n",
            "1/9 [==>...........................] - ETA: 0s - loss: 0.4160 - accuracy: 0.8203\n",
            "Epoch 136: saving model to keypoint_classifier.hdf5\n",
            "9/9 [==============================] - 0s 8ms/step - loss: 0.3736 - accuracy: 0.8442 - val_loss: 0.1021 - val_accuracy: 0.9943\n",
            "Epoch 137/1000\n",
            "1/9 [==>...........................] - ETA: 0s - loss: 0.3638 - accuracy: 0.8438\n",
            "Epoch 137: saving model to keypoint_classifier.hdf5\n",
            "9/9 [==============================] - 0s 7ms/step - loss: 0.3511 - accuracy: 0.8709 - val_loss: 0.1076 - val_accuracy: 0.9971\n",
            "Epoch 138/1000\n",
            "1/9 [==>...........................] - ETA: 0s - loss: 0.3970 - accuracy: 0.8594\n",
            "Epoch 138: saving model to keypoint_classifier.hdf5\n",
            "9/9 [==============================] - 0s 7ms/step - loss: 0.3483 - accuracy: 0.8681 - val_loss: 0.1040 - val_accuracy: 1.0000\n",
            "Epoch 139/1000\n",
            "1/9 [==>...........................] - ETA: 0s - loss: 0.4804 - accuracy: 0.7656\n",
            "Epoch 139: saving model to keypoint_classifier.hdf5\n",
            "9/9 [==============================] - 0s 7ms/step - loss: 0.3394 - accuracy: 0.8537 - val_loss: 0.0952 - val_accuracy: 1.0000\n",
            "Epoch 140/1000\n",
            "1/9 [==>...........................] - ETA: 0s - loss: 0.3354 - accuracy: 0.8594\n",
            "Epoch 140: saving model to keypoint_classifier.hdf5\n",
            "9/9 [==============================] - 0s 7ms/step - loss: 0.3351 - accuracy: 0.8633 - val_loss: 0.0892 - val_accuracy: 0.9971\n",
            "Epoch 141/1000\n",
            "1/9 [==>...........................] - ETA: 0s - loss: 0.3290 - accuracy: 0.8828\n",
            "Epoch 141: saving model to keypoint_classifier.hdf5\n",
            "9/9 [==============================] - 0s 6ms/step - loss: 0.3418 - accuracy: 0.8662 - val_loss: 0.0908 - val_accuracy: 1.0000\n",
            "Epoch 142/1000\n",
            "1/9 [==>...........................] - ETA: 0s - loss: 0.2952 - accuracy: 0.8828\n",
            "Epoch 142: saving model to keypoint_classifier.hdf5\n",
            "9/9 [==============================] - 0s 6ms/step - loss: 0.3382 - accuracy: 0.8633 - val_loss: 0.0892 - val_accuracy: 0.9971\n",
            "Epoch 143/1000\n",
            "1/9 [==>...........................] - ETA: 0s - loss: 0.3368 - accuracy: 0.8594\n",
            "Epoch 143: saving model to keypoint_classifier.hdf5\n",
            "9/9 [==============================] - 0s 5ms/step - loss: 0.3447 - accuracy: 0.8642 - val_loss: 0.0848 - val_accuracy: 0.9971\n",
            "Epoch 144/1000\n",
            "1/9 [==>...........................] - ETA: 0s - loss: 0.3250 - accuracy: 0.8750\n",
            "Epoch 144: saving model to keypoint_classifier.hdf5\n",
            "9/9 [==============================] - 0s 6ms/step - loss: 0.3781 - accuracy: 0.8528 - val_loss: 0.0864 - val_accuracy: 0.9971\n",
            "Epoch 145/1000\n",
            "1/9 [==>...........................] - ETA: 0s - loss: 0.3408 - accuracy: 0.8750\n",
            "Epoch 145: saving model to keypoint_classifier.hdf5\n",
            "9/9 [==============================] - 0s 6ms/step - loss: 0.3190 - accuracy: 0.8757 - val_loss: 0.0891 - val_accuracy: 1.0000\n",
            "Epoch 146/1000\n",
            "1/9 [==>...........................] - ETA: 0s - loss: 0.2151 - accuracy: 0.9141\n",
            "Epoch 146: saving model to keypoint_classifier.hdf5\n",
            "9/9 [==============================] - 0s 6ms/step - loss: 0.2891 - accuracy: 0.8872 - val_loss: 0.0855 - val_accuracy: 1.0000\n",
            "Epoch 147/1000\n",
            "1/9 [==>...........................] - ETA: 0s - loss: 0.2743 - accuracy: 0.8828\n",
            "Epoch 147: saving model to keypoint_classifier.hdf5\n",
            "9/9 [==============================] - 0s 6ms/step - loss: 0.3142 - accuracy: 0.8700 - val_loss: 0.0802 - val_accuracy: 1.0000\n",
            "Epoch 148/1000\n",
            "1/9 [==>...........................] - ETA: 0s - loss: 0.3324 - accuracy: 0.8516\n",
            "Epoch 148: saving model to keypoint_classifier.hdf5\n",
            "9/9 [==============================] - 0s 6ms/step - loss: 0.3406 - accuracy: 0.8623 - val_loss: 0.0776 - val_accuracy: 0.9971\n",
            "Epoch 149/1000\n",
            "1/9 [==>...........................] - ETA: 0s - loss: 0.4071 - accuracy: 0.8438\n",
            "Epoch 149: saving model to keypoint_classifier.hdf5\n",
            "9/9 [==============================] - 0s 6ms/step - loss: 0.3204 - accuracy: 0.8728 - val_loss: 0.0771 - val_accuracy: 0.9971\n",
            "Epoch 150/1000\n",
            "1/9 [==>...........................] - ETA: 0s - loss: 0.3615 - accuracy: 0.8281\n",
            "Epoch 150: saving model to keypoint_classifier.hdf5\n",
            "9/9 [==============================] - 0s 5ms/step - loss: 0.3299 - accuracy: 0.8585 - val_loss: 0.0787 - val_accuracy: 0.9971\n",
            "Epoch 151/1000\n",
            "1/9 [==>...........................] - ETA: 0s - loss: 0.3189 - accuracy: 0.9062\n",
            "Epoch 151: saving model to keypoint_classifier.hdf5\n",
            "9/9 [==============================] - 0s 6ms/step - loss: 0.3239 - accuracy: 0.8719 - val_loss: 0.0814 - val_accuracy: 1.0000\n",
            "Epoch 152/1000\n",
            "1/9 [==>...........................] - ETA: 0s - loss: 0.2486 - accuracy: 0.8984\n",
            "Epoch 152: saving model to keypoint_classifier.hdf5\n",
            "9/9 [==============================] - 0s 6ms/step - loss: 0.3403 - accuracy: 0.8489 - val_loss: 0.0837 - val_accuracy: 1.0000\n",
            "Epoch 153/1000\n",
            "1/9 [==>...........................] - ETA: 0s - loss: 0.2948 - accuracy: 0.8750\n",
            "Epoch 153: saving model to keypoint_classifier.hdf5\n",
            "9/9 [==============================] - 0s 6ms/step - loss: 0.3200 - accuracy: 0.8815 - val_loss: 0.0788 - val_accuracy: 0.9971\n",
            "Epoch 154/1000\n",
            "1/9 [==>...........................] - ETA: 0s - loss: 0.3071 - accuracy: 0.8906\n",
            "Epoch 154: saving model to keypoint_classifier.hdf5\n",
            "9/9 [==============================] - 0s 6ms/step - loss: 0.3166 - accuracy: 0.8843 - val_loss: 0.0726 - val_accuracy: 0.9971\n",
            "Epoch 155/1000\n",
            "1/9 [==>...........................] - ETA: 0s - loss: 0.2886 - accuracy: 0.8750\n",
            "Epoch 155: saving model to keypoint_classifier.hdf5\n",
            "9/9 [==============================] - 0s 6ms/step - loss: 0.3053 - accuracy: 0.8671 - val_loss: 0.0704 - val_accuracy: 1.0000\n",
            "Epoch 156/1000\n",
            "1/9 [==>...........................] - ETA: 0s - loss: 0.3877 - accuracy: 0.8359\n",
            "Epoch 156: saving model to keypoint_classifier.hdf5\n",
            "9/9 [==============================] - 0s 5ms/step - loss: 0.3239 - accuracy: 0.8604 - val_loss: 0.0687 - val_accuracy: 1.0000\n",
            "Epoch 157/1000\n",
            "1/9 [==>...........................] - ETA: 0s - loss: 0.2967 - accuracy: 0.8750\n",
            "Epoch 157: saving model to keypoint_classifier.hdf5\n",
            "9/9 [==============================] - 0s 6ms/step - loss: 0.3056 - accuracy: 0.8738 - val_loss: 0.0668 - val_accuracy: 0.9971\n",
            "Epoch 158/1000\n",
            "1/9 [==>...........................] - ETA: 0s - loss: 0.3127 - accuracy: 0.8750\n",
            "Epoch 158: saving model to keypoint_classifier.hdf5\n",
            "9/9 [==============================] - 0s 5ms/step - loss: 0.3524 - accuracy: 0.8614 - val_loss: 0.0685 - val_accuracy: 1.0000\n",
            "Epoch 159/1000\n",
            "1/9 [==>...........................] - ETA: 0s - loss: 0.2879 - accuracy: 0.8750\n",
            "Epoch 159: saving model to keypoint_classifier.hdf5\n",
            "9/9 [==============================] - 0s 6ms/step - loss: 0.2994 - accuracy: 0.8805 - val_loss: 0.0689 - val_accuracy: 1.0000\n",
            "Epoch 160/1000\n",
            "1/9 [==>...........................] - ETA: 0s - loss: 0.3125 - accuracy: 0.9062\n",
            "Epoch 160: saving model to keypoint_classifier.hdf5\n",
            "9/9 [==============================] - 0s 5ms/step - loss: 0.3039 - accuracy: 0.8862 - val_loss: 0.0678 - val_accuracy: 1.0000\n",
            "Epoch 161/1000\n",
            "1/9 [==>...........................] - ETA: 0s - loss: 0.4787 - accuracy: 0.7969\n",
            "Epoch 161: saving model to keypoint_classifier.hdf5\n",
            "9/9 [==============================] - 0s 6ms/step - loss: 0.3264 - accuracy: 0.8633 - val_loss: 0.0669 - val_accuracy: 1.0000\n",
            "Epoch 162/1000\n",
            "1/9 [==>...........................] - ETA: 0s - loss: 0.2941 - accuracy: 0.8984\n",
            "Epoch 162: saving model to keypoint_classifier.hdf5\n",
            "9/9 [==============================] - 0s 6ms/step - loss: 0.3005 - accuracy: 0.8872 - val_loss: 0.0650 - val_accuracy: 1.0000\n",
            "Epoch 163/1000\n",
            "1/9 [==>...........................] - ETA: 0s - loss: 0.2245 - accuracy: 0.9062\n",
            "Epoch 163: saving model to keypoint_classifier.hdf5\n",
            "9/9 [==============================] - 0s 6ms/step - loss: 0.2913 - accuracy: 0.8805 - val_loss: 0.0632 - val_accuracy: 1.0000\n",
            "Epoch 164/1000\n",
            "1/9 [==>...........................] - ETA: 0s - loss: 0.3418 - accuracy: 0.8359\n",
            "Epoch 164: saving model to keypoint_classifier.hdf5\n",
            "9/9 [==============================] - 0s 6ms/step - loss: 0.3074 - accuracy: 0.8776 - val_loss: 0.0605 - val_accuracy: 1.0000\n",
            "Epoch 165/1000\n",
            "1/9 [==>...........................] - ETA: 0s - loss: 0.2781 - accuracy: 0.8750\n",
            "Epoch 165: saving model to keypoint_classifier.hdf5\n",
            "9/9 [==============================] - 0s 6ms/step - loss: 0.2983 - accuracy: 0.8709 - val_loss: 0.0592 - val_accuracy: 1.0000\n",
            "Epoch 166/1000\n",
            "1/9 [==>...........................] - ETA: 0s - loss: 0.2716 - accuracy: 0.8828\n",
            "Epoch 166: saving model to keypoint_classifier.hdf5\n",
            "9/9 [==============================] - 0s 6ms/step - loss: 0.3105 - accuracy: 0.8776 - val_loss: 0.0577 - val_accuracy: 1.0000\n",
            "Epoch 167/1000\n",
            "1/9 [==>...........................] - ETA: 0s - loss: 0.2601 - accuracy: 0.8906\n",
            "Epoch 167: saving model to keypoint_classifier.hdf5\n",
            "9/9 [==============================] - 0s 8ms/step - loss: 0.2723 - accuracy: 0.8891 - val_loss: 0.0588 - val_accuracy: 1.0000\n",
            "Epoch 168/1000\n",
            "1/9 [==>...........................] - ETA: 0s - loss: 0.3813 - accuracy: 0.8125\n",
            "Epoch 168: saving model to keypoint_classifier.hdf5\n",
            "9/9 [==============================] - 0s 6ms/step - loss: 0.2979 - accuracy: 0.8795 - val_loss: 0.0612 - val_accuracy: 1.0000\n",
            "Epoch 169/1000\n",
            "1/9 [==>...........................] - ETA: 0s - loss: 0.3714 - accuracy: 0.8438\n",
            "Epoch 169: saving model to keypoint_classifier.hdf5\n",
            "9/9 [==============================] - 0s 6ms/step - loss: 0.3224 - accuracy: 0.8786 - val_loss: 0.0629 - val_accuracy: 1.0000\n",
            "Epoch 170/1000\n",
            "1/9 [==>...........................] - ETA: 0s - loss: 0.3000 - accuracy: 0.8594\n",
            "Epoch 170: saving model to keypoint_classifier.hdf5\n",
            "9/9 [==============================] - 0s 6ms/step - loss: 0.3091 - accuracy: 0.8738 - val_loss: 0.0606 - val_accuracy: 0.9971\n",
            "Epoch 171/1000\n",
            "1/9 [==>...........................] - ETA: 0s - loss: 0.3187 - accuracy: 0.8828\n",
            "Epoch 171: saving model to keypoint_classifier.hdf5\n",
            "9/9 [==============================] - 0s 6ms/step - loss: 0.3028 - accuracy: 0.8853 - val_loss: 0.0592 - val_accuracy: 0.9971\n",
            "Epoch 172/1000\n",
            "1/9 [==>...........................] - ETA: 0s - loss: 0.3280 - accuracy: 0.8750\n",
            "Epoch 172: saving model to keypoint_classifier.hdf5\n",
            "9/9 [==============================] - 0s 6ms/step - loss: 0.2906 - accuracy: 0.8891 - val_loss: 0.0594 - val_accuracy: 1.0000\n",
            "Epoch 173/1000\n",
            "1/9 [==>...........................] - ETA: 0s - loss: 0.3245 - accuracy: 0.8594\n",
            "Epoch 173: saving model to keypoint_classifier.hdf5\n",
            "9/9 [==============================] - 0s 6ms/step - loss: 0.2965 - accuracy: 0.8824 - val_loss: 0.0602 - val_accuracy: 0.9971\n",
            "Epoch 174/1000\n",
            "1/9 [==>...........................] - ETA: 0s - loss: 0.2904 - accuracy: 0.9062\n",
            "Epoch 174: saving model to keypoint_classifier.hdf5\n",
            "9/9 [==============================] - 0s 6ms/step - loss: 0.3150 - accuracy: 0.8795 - val_loss: 0.0590 - val_accuracy: 0.9971\n",
            "Epoch 175/1000\n",
            "1/9 [==>...........................] - ETA: 0s - loss: 0.2861 - accuracy: 0.9141\n",
            "Epoch 175: saving model to keypoint_classifier.hdf5\n",
            "9/9 [==============================] - 0s 6ms/step - loss: 0.3119 - accuracy: 0.8834 - val_loss: 0.0618 - val_accuracy: 1.0000\n",
            "Epoch 176/1000\n",
            "1/9 [==>...........................] - ETA: 0s - loss: 0.2692 - accuracy: 0.9219\n",
            "Epoch 176: saving model to keypoint_classifier.hdf5\n",
            "9/9 [==============================] - 0s 6ms/step - loss: 0.3185 - accuracy: 0.8738 - val_loss: 0.0633 - val_accuracy: 0.9971\n",
            "Epoch 177/1000\n",
            "1/9 [==>...........................] - ETA: 0s - loss: 0.3377 - accuracy: 0.8828\n",
            "Epoch 177: saving model to keypoint_classifier.hdf5\n",
            "9/9 [==============================] - 0s 6ms/step - loss: 0.3189 - accuracy: 0.8748 - val_loss: 0.0665 - val_accuracy: 0.9971\n",
            "Epoch 178/1000\n",
            "1/9 [==>...........................] - ETA: 0s - loss: 0.2647 - accuracy: 0.8906\n",
            "Epoch 178: saving model to keypoint_classifier.hdf5\n",
            "9/9 [==============================] - 0s 6ms/step - loss: 0.2749 - accuracy: 0.8958 - val_loss: 0.0626 - val_accuracy: 0.9971\n",
            "Epoch 179/1000\n",
            "1/9 [==>...........................] - ETA: 0s - loss: 0.3074 - accuracy: 0.8750\n",
            "Epoch 179: saving model to keypoint_classifier.hdf5\n",
            "9/9 [==============================] - 0s 6ms/step - loss: 0.3077 - accuracy: 0.8795 - val_loss: 0.0593 - val_accuracy: 0.9971\n",
            "Epoch 180/1000\n",
            "1/9 [==>...........................] - ETA: 0s - loss: 0.3398 - accuracy: 0.8984\n",
            "Epoch 180: saving model to keypoint_classifier.hdf5\n",
            "9/9 [==============================] - 0s 6ms/step - loss: 0.3064 - accuracy: 0.8872 - val_loss: 0.0562 - val_accuracy: 1.0000\n",
            "Epoch 181/1000\n",
            "1/9 [==>...........................] - ETA: 0s - loss: 0.2272 - accuracy: 0.9141\n",
            "Epoch 181: saving model to keypoint_classifier.hdf5\n",
            "9/9 [==============================] - 0s 6ms/step - loss: 0.2700 - accuracy: 0.9006 - val_loss: 0.0540 - val_accuracy: 1.0000\n",
            "Epoch 182/1000\n",
            "1/9 [==>...........................] - ETA: 0s - loss: 0.2750 - accuracy: 0.9062\n",
            "Epoch 182: saving model to keypoint_classifier.hdf5\n",
            "9/9 [==============================] - 0s 6ms/step - loss: 0.3073 - accuracy: 0.8757 - val_loss: 0.0524 - val_accuracy: 1.0000\n",
            "Epoch 183/1000\n",
            "1/9 [==>...........................] - ETA: 0s - loss: 0.2881 - accuracy: 0.8516\n",
            "Epoch 183: saving model to keypoint_classifier.hdf5\n",
            "9/9 [==============================] - 0s 6ms/step - loss: 0.3006 - accuracy: 0.8728 - val_loss: 0.0537 - val_accuracy: 0.9971\n",
            "Epoch 184/1000\n",
            "1/9 [==>...........................] - ETA: 0s - loss: 0.3081 - accuracy: 0.8672\n",
            "Epoch 184: saving model to keypoint_classifier.hdf5\n",
            "9/9 [==============================] - 0s 6ms/step - loss: 0.2985 - accuracy: 0.8834 - val_loss: 0.0558 - val_accuracy: 0.9971\n",
            "Epoch 185/1000\n",
            "1/9 [==>...........................] - ETA: 0s - loss: 0.2098 - accuracy: 0.9297\n",
            "Epoch 185: saving model to keypoint_classifier.hdf5\n",
            "9/9 [==============================] - 0s 6ms/step - loss: 0.3183 - accuracy: 0.8748 - val_loss: 0.0599 - val_accuracy: 1.0000\n",
            "Epoch 186/1000\n",
            "1/9 [==>...........................] - ETA: 0s - loss: 0.2887 - accuracy: 0.8828\n",
            "Epoch 186: saving model to keypoint_classifier.hdf5\n",
            "9/9 [==============================] - 0s 6ms/step - loss: 0.3018 - accuracy: 0.8891 - val_loss: 0.0607 - val_accuracy: 1.0000\n",
            "Epoch 187/1000\n",
            "1/9 [==>...........................] - ETA: 0s - loss: 0.2880 - accuracy: 0.8750\n",
            "Epoch 187: saving model to keypoint_classifier.hdf5\n",
            "9/9 [==============================] - 0s 6ms/step - loss: 0.3092 - accuracy: 0.8748 - val_loss: 0.0579 - val_accuracy: 1.0000\n",
            "Epoch 188/1000\n",
            "1/9 [==>...........................] - ETA: 0s - loss: 0.2990 - accuracy: 0.8906\n",
            "Epoch 188: saving model to keypoint_classifier.hdf5\n",
            "9/9 [==============================] - 0s 6ms/step - loss: 0.2844 - accuracy: 0.8881 - val_loss: 0.0613 - val_accuracy: 1.0000\n",
            "Epoch 189/1000\n",
            "1/9 [==>...........................] - ETA: 0s - loss: 0.3210 - accuracy: 0.8672\n",
            "Epoch 189: saving model to keypoint_classifier.hdf5\n",
            "9/9 [==============================] - 0s 6ms/step - loss: 0.3267 - accuracy: 0.8576 - val_loss: 0.0598 - val_accuracy: 1.0000\n",
            "Epoch 190/1000\n",
            "1/9 [==>...........................] - ETA: 0s - loss: 0.1921 - accuracy: 0.9453\n",
            "Epoch 190: saving model to keypoint_classifier.hdf5\n",
            "9/9 [==============================] - 0s 6ms/step - loss: 0.2902 - accuracy: 0.8834 - val_loss: 0.0576 - val_accuracy: 1.0000\n",
            "Epoch 191/1000\n",
            "1/9 [==>...........................] - ETA: 0s - loss: 0.2814 - accuracy: 0.8906\n",
            "Epoch 191: saving model to keypoint_classifier.hdf5\n",
            "9/9 [==============================] - 0s 6ms/step - loss: 0.2821 - accuracy: 0.8901 - val_loss: 0.0546 - val_accuracy: 1.0000\n",
            "Epoch 192/1000\n",
            "1/9 [==>...........................] - ETA: 0s - loss: 0.2056 - accuracy: 0.9062\n",
            "Epoch 192: saving model to keypoint_classifier.hdf5\n",
            "9/9 [==============================] - 0s 6ms/step - loss: 0.2832 - accuracy: 0.8862 - val_loss: 0.0537 - val_accuracy: 1.0000\n",
            "Epoch 193/1000\n",
            "1/9 [==>...........................] - ETA: 0s - loss: 0.2269 - accuracy: 0.9141\n",
            "Epoch 193: saving model to keypoint_classifier.hdf5\n",
            "9/9 [==============================] - 0s 6ms/step - loss: 0.2765 - accuracy: 0.8977 - val_loss: 0.0546 - val_accuracy: 1.0000\n",
            "Epoch 194/1000\n",
            "1/9 [==>...........................] - ETA: 0s - loss: 0.3533 - accuracy: 0.8750\n",
            "Epoch 194: saving model to keypoint_classifier.hdf5\n",
            "9/9 [==============================] - 0s 6ms/step - loss: 0.3322 - accuracy: 0.8776 - val_loss: 0.0577 - val_accuracy: 1.0000\n",
            "Epoch 195/1000\n",
            "1/9 [==>...........................] - ETA: 0s - loss: 0.2886 - accuracy: 0.8672\n",
            "Epoch 195: saving model to keypoint_classifier.hdf5\n",
            "9/9 [==============================] - 0s 5ms/step - loss: 0.2616 - accuracy: 0.8824 - val_loss: 0.0624 - val_accuracy: 1.0000\n",
            "Epoch 196/1000\n",
            "1/9 [==>...........................] - ETA: 0s - loss: 0.3011 - accuracy: 0.8984\n",
            "Epoch 196: saving model to keypoint_classifier.hdf5\n",
            "9/9 [==============================] - 0s 7ms/step - loss: 0.2850 - accuracy: 0.8795 - val_loss: 0.0564 - val_accuracy: 1.0000\n",
            "Epoch 197/1000\n",
            "1/9 [==>...........................] - ETA: 0s - loss: 0.4313 - accuracy: 0.8516\n",
            "Epoch 197: saving model to keypoint_classifier.hdf5\n",
            "9/9 [==============================] - 0s 6ms/step - loss: 0.3148 - accuracy: 0.8728 - val_loss: 0.0589 - val_accuracy: 1.0000\n",
            "Epoch 198/1000\n",
            "1/9 [==>...........................] - ETA: 0s - loss: 0.3132 - accuracy: 0.8750\n",
            "Epoch 198: saving model to keypoint_classifier.hdf5\n",
            "9/9 [==============================] - 0s 5ms/step - loss: 0.3000 - accuracy: 0.8853 - val_loss: 0.0606 - val_accuracy: 1.0000\n",
            "Epoch 199/1000\n",
            "1/9 [==>...........................] - ETA: 0s - loss: 0.2800 - accuracy: 0.8906\n",
            "Epoch 199: saving model to keypoint_classifier.hdf5\n",
            "9/9 [==============================] - 0s 6ms/step - loss: 0.2832 - accuracy: 0.8843 - val_loss: 0.0594 - val_accuracy: 1.0000\n",
            "Epoch 200/1000\n",
            "1/9 [==>...........................] - ETA: 0s - loss: 0.2661 - accuracy: 0.8984\n",
            "Epoch 200: saving model to keypoint_classifier.hdf5\n",
            "9/9 [==============================] - 0s 6ms/step - loss: 0.2855 - accuracy: 0.8767 - val_loss: 0.0582 - val_accuracy: 1.0000\n",
            "Epoch 201/1000\n",
            "1/9 [==>...........................] - ETA: 0s - loss: 0.3915 - accuracy: 0.8516\n",
            "Epoch 201: saving model to keypoint_classifier.hdf5\n",
            "9/9 [==============================] - 0s 6ms/step - loss: 0.2941 - accuracy: 0.8815 - val_loss: 0.0524 - val_accuracy: 1.0000\n",
            "Epoch 202/1000\n",
            "1/9 [==>...........................] - ETA: 0s - loss: 0.2253 - accuracy: 0.9375\n",
            "Epoch 202: saving model to keypoint_classifier.hdf5\n",
            "9/9 [==============================] - 0s 6ms/step - loss: 0.2510 - accuracy: 0.9140 - val_loss: 0.0491 - val_accuracy: 1.0000\n",
            "Epoch 203/1000\n",
            "1/9 [==>...........................] - ETA: 0s - loss: 0.2132 - accuracy: 0.9141\n",
            "Epoch 203: saving model to keypoint_classifier.hdf5\n",
            "9/9 [==============================] - 0s 6ms/step - loss: 0.2621 - accuracy: 0.8987 - val_loss: 0.0465 - val_accuracy: 1.0000\n",
            "Epoch 204/1000\n",
            "1/9 [==>...........................] - ETA: 0s - loss: 0.2596 - accuracy: 0.8906\n",
            "Epoch 204: saving model to keypoint_classifier.hdf5\n",
            "9/9 [==============================] - 0s 6ms/step - loss: 0.2896 - accuracy: 0.8872 - val_loss: 0.0468 - val_accuracy: 1.0000\n",
            "Epoch 205/1000\n",
            "1/9 [==>...........................] - ETA: 0s - loss: 0.2266 - accuracy: 0.9062\n",
            "Epoch 205: saving model to keypoint_classifier.hdf5\n",
            "9/9 [==============================] - 0s 6ms/step - loss: 0.2971 - accuracy: 0.8881 - val_loss: 0.0469 - val_accuracy: 1.0000\n",
            "Epoch 206/1000\n",
            "1/9 [==>...........................] - ETA: 0s - loss: 0.2443 - accuracy: 0.8906\n",
            "Epoch 206: saving model to keypoint_classifier.hdf5\n",
            "9/9 [==============================] - 0s 6ms/step - loss: 0.2546 - accuracy: 0.9025 - val_loss: 0.0470 - val_accuracy: 0.9971\n",
            "Epoch 207/1000\n",
            "1/9 [==>...........................] - ETA: 0s - loss: 0.2874 - accuracy: 0.8906\n",
            "Epoch 207: saving model to keypoint_classifier.hdf5\n",
            "9/9 [==============================] - 0s 6ms/step - loss: 0.3205 - accuracy: 0.8719 - val_loss: 0.0475 - val_accuracy: 0.9971\n",
            "Epoch 208/1000\n",
            "1/9 [==>...........................] - ETA: 0s - loss: 0.2939 - accuracy: 0.8906\n",
            "Epoch 208: saving model to keypoint_classifier.hdf5\n",
            "9/9 [==============================] - 0s 6ms/step - loss: 0.2724 - accuracy: 0.8977 - val_loss: 0.0468 - val_accuracy: 0.9971\n",
            "Epoch 209/1000\n",
            "1/9 [==>...........................] - ETA: 0s - loss: 0.3249 - accuracy: 0.8828\n",
            "Epoch 209: saving model to keypoint_classifier.hdf5\n",
            "9/9 [==============================] - 0s 6ms/step - loss: 0.2858 - accuracy: 0.8920 - val_loss: 0.0479 - val_accuracy: 0.9971\n",
            "Epoch 210/1000\n",
            "1/9 [==>...........................] - ETA: 0s - loss: 0.3291 - accuracy: 0.8281\n",
            "Epoch 210: saving model to keypoint_classifier.hdf5\n",
            "9/9 [==============================] - 0s 6ms/step - loss: 0.2868 - accuracy: 0.8786 - val_loss: 0.0499 - val_accuracy: 1.0000\n",
            "Epoch 211/1000\n",
            "1/9 [==>...........................] - ETA: 0s - loss: 0.3117 - accuracy: 0.8906\n",
            "Epoch 211: saving model to keypoint_classifier.hdf5\n",
            "9/9 [==============================] - 0s 6ms/step - loss: 0.3031 - accuracy: 0.8872 - val_loss: 0.0510 - val_accuracy: 1.0000\n",
            "Epoch 212/1000\n",
            "1/9 [==>...........................] - ETA: 0s - loss: 0.2507 - accuracy: 0.9062\n",
            "Epoch 212: saving model to keypoint_classifier.hdf5\n",
            "9/9 [==============================] - 0s 6ms/step - loss: 0.2949 - accuracy: 0.8920 - val_loss: 0.0490 - val_accuracy: 1.0000\n",
            "Epoch 213/1000\n",
            "1/9 [==>...........................] - ETA: 0s - loss: 0.3706 - accuracy: 0.8125\n",
            "Epoch 213: saving model to keypoint_classifier.hdf5\n",
            "9/9 [==============================] - 0s 6ms/step - loss: 0.2950 - accuracy: 0.8795 - val_loss: 0.0505 - val_accuracy: 0.9971\n",
            "Epoch 214/1000\n",
            "1/9 [==>...........................] - ETA: 0s - loss: 0.3107 - accuracy: 0.8672\n",
            "Epoch 214: saving model to keypoint_classifier.hdf5\n",
            "9/9 [==============================] - 0s 6ms/step - loss: 0.2712 - accuracy: 0.8929 - val_loss: 0.0484 - val_accuracy: 0.9971\n",
            "Epoch 215/1000\n",
            "1/9 [==>...........................] - ETA: 0s - loss: 0.3713 - accuracy: 0.8750\n",
            "Epoch 215: saving model to keypoint_classifier.hdf5\n",
            "9/9 [==============================] - 0s 6ms/step - loss: 0.3068 - accuracy: 0.8776 - val_loss: 0.0490 - val_accuracy: 1.0000\n",
            "Epoch 216/1000\n",
            "1/9 [==>...........................] - ETA: 0s - loss: 0.3520 - accuracy: 0.8359\n",
            "Epoch 216: saving model to keypoint_classifier.hdf5\n",
            "9/9 [==============================] - 0s 6ms/step - loss: 0.3082 - accuracy: 0.8690 - val_loss: 0.0517 - val_accuracy: 1.0000\n",
            "Epoch 217/1000\n",
            "1/9 [==>...........................] - ETA: 0s - loss: 0.2858 - accuracy: 0.9141\n",
            "Epoch 217: saving model to keypoint_classifier.hdf5\n",
            "9/9 [==============================] - 0s 6ms/step - loss: 0.2613 - accuracy: 0.9015 - val_loss: 0.0491 - val_accuracy: 1.0000\n",
            "Epoch 218/1000\n",
            "1/9 [==>...........................] - ETA: 0s - loss: 0.2597 - accuracy: 0.8984\n",
            "Epoch 218: saving model to keypoint_classifier.hdf5\n",
            "9/9 [==============================] - 0s 6ms/step - loss: 0.2977 - accuracy: 0.8767 - val_loss: 0.0477 - val_accuracy: 1.0000\n",
            "Epoch 219/1000\n",
            "1/9 [==>...........................] - ETA: 0s - loss: 0.2718 - accuracy: 0.8828\n",
            "Epoch 219: saving model to keypoint_classifier.hdf5\n",
            "9/9 [==============================] - 0s 5ms/step - loss: 0.2603 - accuracy: 0.8939 - val_loss: 0.0529 - val_accuracy: 1.0000\n",
            "Epoch 220/1000\n",
            "1/9 [==>...........................] - ETA: 0s - loss: 0.1766 - accuracy: 0.9375\n",
            "Epoch 220: saving model to keypoint_classifier.hdf5\n",
            "9/9 [==============================] - 0s 6ms/step - loss: 0.2483 - accuracy: 0.8987 - val_loss: 0.0536 - val_accuracy: 1.0000\n",
            "Epoch 221/1000\n",
            "1/9 [==>...........................] - ETA: 0s - loss: 0.2275 - accuracy: 0.9062\n",
            "Epoch 221: saving model to keypoint_classifier.hdf5\n",
            "9/9 [==============================] - 0s 6ms/step - loss: 0.2551 - accuracy: 0.8987 - val_loss: 0.0524 - val_accuracy: 1.0000\n",
            "Epoch 222/1000\n",
            "1/9 [==>...........................] - ETA: 0s - loss: 0.2201 - accuracy: 0.9219\n",
            "Epoch 222: saving model to keypoint_classifier.hdf5\n",
            "9/9 [==============================] - 0s 6ms/step - loss: 0.2877 - accuracy: 0.8920 - val_loss: 0.0496 - val_accuracy: 1.0000\n",
            "Epoch 223/1000\n",
            "1/9 [==>...........................] - ETA: 0s - loss: 0.2213 - accuracy: 0.9375\n",
            "Epoch 223: saving model to keypoint_classifier.hdf5\n",
            "9/9 [==============================] - 0s 6ms/step - loss: 0.2410 - accuracy: 0.9063 - val_loss: 0.0465 - val_accuracy: 1.0000\n",
            "Epoch 223: early stopping\n"
          ]
        },
        {
          "data": {
            "text/plain": [
              "<keras.callbacks.History at 0x7fa2baaca7a0>"
            ]
          },
          "execution_count": 12,
          "metadata": {},
          "output_type": "execute_result"
        }
      ],
      "source": [
        "model.fit(\n",
        "    X_train,\n",
        "    y_train,\n",
        "    epochs=1000,\n",
        "    batch_size=128,\n",
        "    validation_data=(X_test, y_test),\n",
        "    callbacks=[cp_callback, es_callback]\n",
        ")"
      ]
    },
    {
      "cell_type": "code",
      "execution_count": 13,
      "metadata": {
        "colab": {
          "base_uri": "https://localhost:8080/"
        },
        "id": "pxvb2Y299hE3",
        "outputId": "59eb3185-2e37-4b9e-bc9d-ab1b8ac29b7f"
      },
      "outputs": [
        {
          "name": "stdout",
          "output_type": "stream",
          "text": [
            "3/3 [==============================] - 0s 2ms/step - loss: 0.0465 - accuracy: 1.0000\n"
          ]
        }
      ],
      "source": [
        "# Model evaluation\n",
        "val_loss, val_acc = model.evaluate(X_test, y_test, batch_size=128)"
      ]
    },
    {
      "cell_type": "code",
      "execution_count": 14,
      "metadata": {
        "id": "RBkmDeUW9hE4"
      },
      "outputs": [],
      "source": [
        "# Loading the saved model\n",
        "model = tf.keras.models.load_model(model_save_path)"
      ]
    },
    {
      "cell_type": "code",
      "execution_count": 15,
      "metadata": {
        "colab": {
          "base_uri": "https://localhost:8080/"
        },
        "id": "tFz9Tb0I9hE4",
        "outputId": "1c3b3528-54ae-4ee2-ab04-77429211cbef"
      },
      "outputs": [
        {
          "name": "stdout",
          "output_type": "stream",
          "text": [
            "1/1 [==============================] - 0s 57ms/step\n",
            "[4.8363366e-04 7.6008943e-04 2.0522885e-02 9.7823346e-01]\n",
            "3\n"
          ]
        }
      ],
      "source": [
        "# Inference test\n",
        "predict_result = model.predict(np.array([X_test[0]]))\n",
        "print(np.squeeze(predict_result))\n",
        "print(np.argmax(np.squeeze(predict_result)))"
      ]
    },
    {
      "cell_type": "markdown",
      "metadata": {
        "id": "S3U4yNWx9hE4"
      },
      "source": [
        "# Confusion matrix"
      ]
    },
    {
      "cell_type": "code",
      "execution_count": 16,
      "metadata": {
        "colab": {
          "base_uri": "https://localhost:8080/",
          "height": 582
        },
        "id": "AP1V6SCk9hE5",
        "outputId": "08e41a80-7a4a-4619-8125-ecc371368d19"
      },
      "outputs": [
        {
          "name": "stdout",
          "output_type": "stream",
          "text": [
            "11/11 [==============================] - 0s 905us/step\n"
          ]
        },
        {
          "data": {
            "image/png": "[encoded data removed]",
            "text/plain": [
              "<Figure size 700x600 with 2 Axes>"
            ]
          },
          "metadata": {},
          "output_type": "display_data"
        },
        {
          "name": "stdout",
          "output_type": "stream",
          "text": [
            "Classification Report\n",
            "              precision    recall  f1-score   support\n",
            "\n",
            "           0       1.00      1.00      1.00        98\n",
            "           1       1.00      1.00      1.00        99\n",
            "           2       1.00      1.00      1.00        76\n",
            "           3       1.00      1.00      1.00        76\n",
            "\n",
            "    accuracy                           1.00       349\n",
            "   macro avg       1.00      1.00      1.00       349\n",
            "weighted avg       1.00      1.00      1.00       349\n",
            "\n"
          ]
        }
      ],
      "source": [
        "def print_confusion_matrix(y_true, y_pred, report=True):\n",
        "    labels = sorted(list(set(y_true)))\n",
        "    cmx_data = confusion_matrix(y_true, y_pred, labels=labels)\n",
        "    \n",
        "    df_cmx = pd.DataFrame(cmx_data, index=labels, columns=labels)\n",
        " \n",
        "    fig, ax = plt.subplots(figsize=(7, 6))\n",
        "    sns.heatmap(df_cmx, annot=True, fmt='g' ,square=False)\n",
        "    ax.set_ylim(len(set(y_true)), 0)\n",
        "    plt.show()\n",
        "    \n",
        "    if report:\n",
        "        print('Classification Report')\n",
        "        print(classification_report(y_test, y_pred))\n",
        "\n",
        "Y_pred = model.predict(X_test)\n",
        "y_pred = np.argmax(Y_pred, axis=1)\n",
        "\n",
        "print_confusion_matrix(y_test, y_pred)"
      ]
    },
    {
      "cell_type": "markdown",
      "metadata": {
        "id": "FNP6aqzc9hE5"
      },
      "source": [
        "# Convert to model for Tensorflow-Lite"
      ]
    },
    {
      "cell_type": "code",
      "execution_count": 17,
      "metadata": {
        "id": "ODjnYyld9hE6"
      },
      "outputs": [],
      "source": [
        "# Save as a model dedicated to inference\n",
        "model.save(model_save_path, include_optimizer=False)"
      ]
    },
    {
      "cell_type": "code",
      "execution_count": 18,
      "metadata": {
        "colab": {
          "base_uri": "https://localhost:8080/"
        },
        "id": "zRfuK8Y59hE6",
        "outputId": "a4ca585c-b5d5-4244-8291-8674063209bb"
      },
      "outputs": [
        {
          "name": "stderr",
          "output_type": "stream",
          "text": [
            "WARNING:absl:Found untraced functions such as _update_step_xla while saving (showing 1 of 1). These functions will not be directly callable after loading.\n"
          ]
        },
        {
          "name": "stdout",
          "output_type": "stream",
          "text": [
            "INFO:tensorflow:Assets written to: /tmp/tmp9fde2owk/assets\n"
          ]
        },
        {
          "name": "stderr",
          "output_type": "stream",
          "text": [
            "INFO:tensorflow:Assets written to: /tmp/tmp9fde2owk/assets\n",
            "2023-01-08 06:03:14.541014: W tensorflow/compiler/mlir/lite/python/tf_tfl_flatbuffer_helpers.cc:362] Ignored output_format.\n",
            "2023-01-08 06:03:14.541048: W tensorflow/compiler/mlir/lite/python/tf_tfl_flatbuffer_helpers.cc:365] Ignored drop_control_dependency.\n",
            "2023-01-08 06:03:14.541563: I tensorflow/cc/saved_model/reader.cc:45] Reading SavedModel from: /tmp/tmp9fde2owk\n",
            "2023-01-08 06:03:14.542824: I tensorflow/cc/saved_model/reader.cc:89] Reading meta graph with tags { serve }\n",
            "2023-01-08 06:03:14.542839: I tensorflow/cc/saved_model/reader.cc:130] Reading SavedModel debug info (if present) from: /tmp/tmp9fde2owk\n",
            "2023-01-08 06:03:14.547668: I tensorflow/compiler/mlir/mlir_graph_optimization_pass.cc:357] MLIR V1 optimization pass is not enabled\n",
            "2023-01-08 06:03:14.548554: I tensorflow/cc/saved_model/loader.cc:229] Restoring SavedModel bundle.\n",
            "2023-01-08 06:03:14.578692: I tensorflow/cc/saved_model/loader.cc:213] Running initialization op on SavedModel bundle at path: /tmp/tmp9fde2owk\n",
            "2023-01-08 06:03:14.586495: I tensorflow/cc/saved_model/loader.cc:305] SavedModel load for tags { serve }; Status: success: OK. Took 44935 microseconds.\n",
            "2023-01-08 06:03:14.604973: I tensorflow/compiler/mlir/tensorflow/utils/dump_mlir_util.cc:268] disabling MLIR crash reproducer, set env var `MLIR_CRASH_REPRODUCER_DIRECTORY` to enable.\n"
          ]
        },
        {
          "data": {
            "text/plain": [
              "6544"
            ]
          },
          "execution_count": 18,
          "metadata": {},
          "output_type": "execute_result"
        }
      ],
      "source": [
        "# Transform model (quantization)\n",
        "\n",
        "converter = tf.lite.TFLiteConverter.from_keras_model(model)\n",
        "converter.optimizations = [tf.lite.Optimize.DEFAULT]\n",
        "tflite_quantized_model = converter.convert()\n",
        "\n",
        "open(tflite_save_path, 'wb').write(tflite_quantized_model)"
      ]
    },
    {
      "cell_type": "markdown",
      "metadata": {
        "id": "CHBPBXdx9hE6"
      },
      "source": [
        "# Inference test"
      ]
    },
    {
      "cell_type": "code",
      "execution_count": 19,
      "metadata": {
        "id": "mGAzLocO9hE7"
      },
      "outputs": [
        {
          "name": "stderr",
          "output_type": "stream",
          "text": [
            "INFO: Created TensorFlow Lite XNNPACK delegate for CPU.\n"
          ]
        }
      ],
      "source": [
        "interpreter = tf.lite.Interpreter(model_path=tflite_save_path)\n",
        "interpreter.allocate_tensors()"
      ]
    },
    {
      "cell_type": "code",
      "execution_count": 20,
      "metadata": {
        "id": "oQuDK8YS9hE7"
      },
      "outputs": [],
      "source": [
        "# Get I / O tensor\n",
        "input_details = interpreter.get_input_details()\n",
        "output_details = interpreter.get_output_details()"
      ]
    },
    {
      "cell_type": "code",
      "execution_count": 21,
      "metadata": {
        "id": "2_ixAf_l9hE7"
      },
      "outputs": [],
      "source": [
        "interpreter.set_tensor(input_details[0]['index'], np.array([X_test[0]]))"
      ]
    },
    {
      "cell_type": "code",
      "execution_count": 22,
      "metadata": {
        "colab": {
          "base_uri": "https://localhost:8080/"
        },
        "id": "s4FoAnuc9hE7",
        "outputId": "91f18257-8d8b-4ef3-c558-e9b5f94fabbf",
        "scrolled": true
      },
      "outputs": [
        {
          "name": "stdout",
          "output_type": "stream",
          "text": [
            "CPU times: user 548 µs, sys: 98 µs, total: 646 µs\n",
            "Wall time: 435 µs\n"
          ]
        }
      ],
      "source": [
        "%%time\n",
        "# Inference implementation\n",
        "interpreter.invoke()\n",
        "tflite_results = interpreter.get_tensor(output_details[0]['index'])"
      ]
    },
    {
      "cell_type": "code",
      "execution_count": 23,
      "metadata": {
        "colab": {
          "base_uri": "https://localhost:8080/"
        },
        "id": "vONjp19J9hE8",
        "outputId": "77205e24-fd00-42c4-f7b6-e06e527c2cba"
      },
      "outputs": [
        {
          "name": "stdout",
          "output_type": "stream",
          "text": [
            "[4.8363386e-04 7.6009013e-04 2.0522878e-02 9.7823346e-01]\n",
            "3\n"
          ]
        }
      ],
      "source": [
        "print(np.squeeze(tflite_results))\n",
        "print(np.argmax(np.squeeze(tflite_results)))"
      ]
    }
  ],
  "metadata": {
    "accelerator": "GPU",
    "colab": {
      "collapsed_sections": [],
      "name": "keypoint_classification_EN.ipynb",
      "provenance": [],
      "toc_visible": true
    },
    "kernelspec": {
      "display_name": "Python 3",
      "language": "python",
      "name": "python3"
    },
    "language_info": {
      "codemirror_mode": {
        "name": "ipython",
        "version": 3
      },
      "file_extension": ".py",
      "mimetype": "text/x-python",
      "name": "python",
      "nbconvert_exporter": "python",
      "pygments_lexer": "ipython3",
      "version": "3.10.8"
    },
    "vscode": {
      "interpreter": {
        "hash": "767d51c1340bd893661ea55ea3124f6de3c7a262a8b4abca0554b478b1e2ff90"
      }
    }
  },
  "nbformat": 4,
  "nbformat_minor": 0
}
